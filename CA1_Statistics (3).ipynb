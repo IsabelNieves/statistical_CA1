{
  "nbformat": 4,
  "nbformat_minor": 0,
  "metadata": {
    "colab": {
      "provenance": [],
      "collapsed_sections": [
        "KZTKKPy83fRD",
        "WRT5KfHr4Rdl"
      ]
    },
    "kernelspec": {
      "name": "python3",
      "display_name": "Python 3"
    },
    "language_info": {
      "name": "python"
    }
  },
  "cells": [
    {
      "cell_type": "markdown",
      "source": [
        "\n",
        " <center>\n",
        "\n",
        "<img src=https://www.cct.ie/wp-content/uploads/CCT_Logo_New_Aug_17-2.jpg width=600>\n",
        "\n",
        " </center>"
      ],
      "metadata": {
        "id": "iY5f58yXU7Qr"
      }
    },
    {
      "cell_type": "markdown",
      "source": [
        "<center>\n",
        " \n",
        "<div style=\"text-align: center\"> <span style=\"font-size: 20px;\"> <b>CCT College Dublin Continuous Assessment 1 </b> </span></div>\n",
        " \n",
        "</b> </span></div>  \n",
        "    \n",
        "<div style=\"text-align: center\"> <span style=\"font-size:20px;\"><b>Statistical Techniques for Data Analysis</b> </span></div>\n",
        "    \n",
        "</b> </span></div>    \n",
        " \n",
        "    \n",
        "<div style=\"text-align: center\"> <span style=\"font-size:20px;\"><b>Aldana Louzan </b> </span></div>\n",
        "    \n",
        "\n",
        "    \n",
        "\n",
        "</b> </span></div>\n",
        "\n",
        "<div style=\"text-align: center\"> <span style=\"font-size: 14px;\"><b> 2022455 - Ana Isabel Nieves Barcenas</b> </span></div>\n",
        "  \n",
        "\n",
        "<div style=\"text-align: center\"> <span style=\"font-size: 14px;\"><b> 2022178 -  Vicente Rubio</b> </span></div>\n",
        "\n",
        "    \n"
      ],
      "metadata": {
        "id": "cBikLVKXVBNC"
      }
    },
    {
      "cell_type": "markdown",
      "source": [
        "# Introduction \n",
        "\n",
        "**Saving** is the foundation for financial stability; setting aside a portion of monthly income for future expenses is the most intelligent way to ensure that we can meet our goals and be ready to cover any emergencies or the pleasures that we wish to give ourselves at a specific time.\n",
        "\n",
        "\n",
        "But is this practice used by our generation?\n",
        "\n",
        "Millennials who were born between 1981-1996 are now entering their productive years. However, We commonly refer to millennials as those who need help to get into the habit of saving. This is confirmed according to the study by Dahlia  for Luno (Lunodiscover,2019) which reveals that 69% of the 7,000 millennials do not save regularly.\n",
        "\n",
        "> \"*Millennials do not have savings or much less a plan for their retirement, according to a recent survey by the company Fidelity. Even “older millennials” — defined by GBR as those between 25 and 34 — struggled to save money: 61 percent had less than $1,000 in their accounts and 41 percent had nothing at all*\" (Elkins, K. 2018).\n",
        "\n",
        "\n",
        "\n",
        " What makes saving difficult for millennials?\n",
        "\n",
        "The first factor is that these generations are currently in work stages where their incomes are not yet large enough to generate savings. If we add to this the fact that we live in a dynamic of consumption in which day-to-day expenses require many payments - from renting a house to subscriptions to various digital platforms - the salary received by younger people is mainly allocated to these expenses and, as a result, their ability to save is reduced.\n",
        "\n",
        "Another factor is that many young people have the motto, \"let's enjoy more and accumulate less\". So, the more they enjoy and the less they accumulate, the more difficult it becomes for them to save.\n",
        "\n",
        "\n",
        "We, as part of this generation, find this topic interesting because in our experience it is becoming more and more complicated to save, with the high cost of living, and the few well-paid jobs, it is difficult to cover the expenses we have every day, so allocating part of our income to savings is becoming more and more difficult. But we cannot categorise an entire generation as those with no future savings. Our experience may differ from that of the rest of the millennial population. For this reason, in this project, we want to understand what is happening with our generation concerning savings. \n",
        "\n",
        "\n"
      ],
      "metadata": {
        "id": "UlXF8VbQ__rX"
      }
    },
    {
      "cell_type": "markdown",
      "source": [
        "# First section: Dataset selection & Descriptive stats"
      ],
      "metadata": {
        "id": "1936mkII5rut"
      }
    },
    {
      "cell_type": "markdown",
      "source": [
        "## Dataset Selection.\n",
        "\n",
        "\n",
        "As we mentioned before, this topic is extremely interesting for us because we are part of this generation, we want to discover if the statements are true and we are a generation which does not have the habit of saving.\n",
        "\n",
        "we found a dataset about a survey carried out by students from the Statistics class at FSEV UK of their friends, which adds up to a total of 1010 interviewed millennials.\n",
        "The dataset contains questions about their spending habits; With these data we will be able to discover if the Millennials do not have savings. \n",
        "\n",
        "The original data file consists of 1010 rows and 150 columns (139 integer and 11 categorical). For convenience, the original variable names were shortened in the data file.The data contain missing values. The survey was presented to participants in both electronic and written form. \n",
        "\n",
        "\n",
        "The variables can be split into the following groups:\n",
        "\n",
        "* Music preferences (19 items)\n",
        "\n",
        "* Movie preferences (12 items)\n",
        "\n",
        "* Hobbies & interests (32 items)\n",
        "\n",
        "* Phobias (10 items)\n",
        "\n",
        "* Health habits (3 items)\n",
        "\n",
        "* Personality traits, views on life, & opinions (57 items)\n",
        "\n",
        "* Spending habits (7 items)\n",
        "\n",
        "* Demographics (10 items)\n",
        "\n",
        "For this project we have decided to use a smaller version of the dataset with only the following columns.\n",
        "\n",
        "**Dictionary**\n",
        "\n",
        "these are the questions in the survey we have decided to pursue with in our project.\n",
        "\n",
        "\n",
        "* Drinking: Never - Social drinker - Drink a lot (categorical)\n",
        "\n",
        "* Smoking habits: - never smoked-tried smoking-former smoker- (Categorical)\n",
        "\n",
        "\n",
        "* I save all the money I can.Strongly disagree 1-2-3-4-5 Strongly agree (integer)\n",
        "\n",
        "\n",
        "\n",
        "* I enjoy going to large shopping centres.Strongly disagree 1-2-3-4-5 Strongly agree (integer)\n",
        "\n",
        "\n",
        "\n",
        "* I prefer branded clothing to non branded.Strongly disagree 1-2-3-4-5 Strongly agree (integer)\n",
        "\n",
        "\n",
        "\n",
        "* I spend a lot of money on  partying and socializing.Strongly disagree 1-2-3-4-5 Strongly agree (integer)\n",
        "\n",
        "\n",
        "\n",
        "* I spend a lot of money on my appearance.Strongly disagree 1-2-3-4-5 Strongly agree (integer)\n",
        "\n",
        "\n",
        "\n",
        "* I spend a lot of money on gadgets.Strongly disagree 1-2-3-4-5 Strongly agree (integer)\n",
        "\n",
        "\n",
        "* I will hapilly pay more money for good, quality or healthy food.Strongly disagree 1-2-3-4-5 Strongly agree (integer)\n",
        "\n",
        "\n",
        "* Age: (integer)\n",
        "\n",
        "\n",
        "* Height: (integer)\n",
        "\n",
        "\n",
        "* Weight: (integer)\n",
        "\n",
        "\n",
        "* How many siblings do you have?: (integer)\n",
        "\n",
        "\n",
        "* Gender: Female - Male (categorical)\n",
        "\n",
        "\n",
        "* I am: Left handed - Right handed (categorical)\n",
        "\n",
        "\n",
        "* Highest education achieved: Currently a Primary school pupil - Primary school - Secondary school - College/Bachelor degree (categorical)\n",
        "\n",
        "\n",
        "* I am the only child: No - Yes (categorical)\n",
        "\n",
        "\n",
        "* I spent most of my childhood in a: City - village (categorical)\n",
        "\n",
        "\n",
        "* I lived most of my childhood in a: house/bungalow - block of flats (categorical)\n"
      ],
      "metadata": {
        "id": "IZX7gENJoY8j"
      }
    },
    {
      "cell_type": "markdown",
      "source": [
        "We need to import all the libraries that we need to use in this project, each library is used for a different purpose; Python libraries are an excellent data analysis and machine learning tool. "
      ],
      "metadata": {
        "id": "10XFGKJc9Dz7"
      }
    },
    {
      "cell_type": "code",
      "source": [
        "#import required libraries\n",
        "import pandas as pd \n",
        "import statistics\n",
        "import matplotlib.pyplot as plt\n",
        "import numpy as np\n",
        "import seaborn as sns\n",
        "from scipy import stats\n",
        "\n",
        "#Import for missing values \n",
        "import missingno as msno\n",
        "\n",
        "#Import libraries for lineal refression\n",
        "from sklearn.linear_model import LinearRegression\n",
        "from sklearn.metrics import r2_score \n",
        "\n",
        "# Import this library to suppress the warnings\n",
        "import warnings\n",
        "warnings.filterwarnings(\"ignore\")"
      ],
      "metadata": {
        "id": "8T3W8RhBVtTb"
      },
      "execution_count": null,
      "outputs": []
    },
    {
      "cell_type": "markdown",
      "source": [
        "The pd.read_csv() function is used to read the dataset and is stored in the data frame as ‘df’."
      ],
      "metadata": {
        "id": "YzNRxyXmDMOt"
      }
    },
    {
      "cell_type": "code",
      "source": [
        "#Importing the dataset\n",
        "df=pd.read_csv(\"/content/Young_People_Survey.csv\") \n"
      ],
      "metadata": {
        "id": "rhvzmRlLmDuM"
      },
      "execution_count": null,
      "outputs": []
    },
    {
      "cell_type": "markdown",
      "source": [
        "We mostly use the DataFrame.head() and DataFrame.tail() functions of the pandas DataFrame class to get the first and the last N rows (by default the value of this N = 5) of the pandas DataFrame or Series respectively."
      ],
      "metadata": {
        "id": "xtuLZCvfBZJs"
      }
    },
    {
      "cell_type": "code",
      "source": [
        "# Display the first rows of the dataset and see what it looks like!\n",
        "df.head()"
      ],
      "metadata": {
        "colab": {
          "base_uri": "https://localhost:8080/",
          "height": 409
        },
        "id": "jAjDDTUZr_If",
        "outputId": "48af4d35-e16b-4680-c0d0-a48205524549"
      },
      "execution_count": 14,
      "outputs": [
        {
          "output_type": "execute_result",
          "data": {
            "text/plain": [
              "         Smoking         Alcohol  Finances  Shopping centres  \\\n",
              "0   never smoked     drink a lot       3.0               4.0   \n",
              "1   never smoked     drink a lot       3.0               4.0   \n",
              "2  tried smoking     drink a lot       2.0               4.0   \n",
              "3  former smoker     drink a lot       2.0               4.0   \n",
              "4  tried smoking  social drinker       4.0               3.0   \n",
              "\n",
              "   Branded clothing  Entertainment spending  Spending on looks  \\\n",
              "0               5.0                     3.0                3.0   \n",
              "1               1.0                     4.0                2.0   \n",
              "2               1.0                     4.0                3.0   \n",
              "3               3.0                     3.0                4.0   \n",
              "4               4.0                     3.0                3.0   \n",
              "\n",
              "   Spending on gadgets  Spending on healthy eating   Age  Height  Weight  \\\n",
              "0                    1                         3.0  20.0   163.0    48.0   \n",
              "1                    5                         2.0  19.0   163.0    58.0   \n",
              "2                    4                         2.0  20.0   176.0    67.0   \n",
              "3                    4                         1.0  22.0   172.0    59.0   \n",
              "4                    2                         4.0  20.0   170.0    59.0   \n",
              "\n",
              "   Number of siblings  Gender Left - right handed                Education  \\\n",
              "0                 1.0  female        right handed  college/bachelor degree   \n",
              "1                 2.0  female        right handed  college/bachelor degree   \n",
              "2                 2.0  female        right handed         secondary school   \n",
              "3                 1.0  female        right handed  college/bachelor degree   \n",
              "4                 1.0  female        right handed         secondary school   \n",
              "\n",
              "  Only child Village - town House - block of flats  \n",
              "0         no        village         block of flats  \n",
              "1         no           city         block of flats  \n",
              "2         no           city         block of flats  \n",
              "3        yes           city         house/bungalow  \n",
              "4         no        village         house/bungalow  "
            ],
            "text/html": [
              "\n",
              "  <div id=\"df-935e2c92-31f1-4807-b5c3-d09a6eed3d0a\">\n",
              "    <div class=\"colab-df-container\">\n",
              "      <div>\n",
              "<style scoped>\n",
              "    .dataframe tbody tr th:only-of-type {\n",
              "        vertical-align: middle;\n",
              "    }\n",
              "\n",
              "    .dataframe tbody tr th {\n",
              "        vertical-align: top;\n",
              "    }\n",
              "\n",
              "    .dataframe thead th {\n",
              "        text-align: right;\n",
              "    }\n",
              "</style>\n",
              "<table border=\"1\" class=\"dataframe\">\n",
              "  <thead>\n",
              "    <tr style=\"text-align: right;\">\n",
              "      <th></th>\n",
              "      <th>Smoking</th>\n",
              "      <th>Alcohol</th>\n",
              "      <th>Finances</th>\n",
              "      <th>Shopping centres</th>\n",
              "      <th>Branded clothing</th>\n",
              "      <th>Entertainment spending</th>\n",
              "      <th>Spending on looks</th>\n",
              "      <th>Spending on gadgets</th>\n",
              "      <th>Spending on healthy eating</th>\n",
              "      <th>Age</th>\n",
              "      <th>Height</th>\n",
              "      <th>Weight</th>\n",
              "      <th>Number of siblings</th>\n",
              "      <th>Gender</th>\n",
              "      <th>Left - right handed</th>\n",
              "      <th>Education</th>\n",
              "      <th>Only child</th>\n",
              "      <th>Village - town</th>\n",
              "      <th>House - block of flats</th>\n",
              "    </tr>\n",
              "  </thead>\n",
              "  <tbody>\n",
              "    <tr>\n",
              "      <th>0</th>\n",
              "      <td>never smoked</td>\n",
              "      <td>drink a lot</td>\n",
              "      <td>3.0</td>\n",
              "      <td>4.0</td>\n",
              "      <td>5.0</td>\n",
              "      <td>3.0</td>\n",
              "      <td>3.0</td>\n",
              "      <td>1</td>\n",
              "      <td>3.0</td>\n",
              "      <td>20.0</td>\n",
              "      <td>163.0</td>\n",
              "      <td>48.0</td>\n",
              "      <td>1.0</td>\n",
              "      <td>female</td>\n",
              "      <td>right handed</td>\n",
              "      <td>college/bachelor degree</td>\n",
              "      <td>no</td>\n",
              "      <td>village</td>\n",
              "      <td>block of flats</td>\n",
              "    </tr>\n",
              "    <tr>\n",
              "      <th>1</th>\n",
              "      <td>never smoked</td>\n",
              "      <td>drink a lot</td>\n",
              "      <td>3.0</td>\n",
              "      <td>4.0</td>\n",
              "      <td>1.0</td>\n",
              "      <td>4.0</td>\n",
              "      <td>2.0</td>\n",
              "      <td>5</td>\n",
              "      <td>2.0</td>\n",
              "      <td>19.0</td>\n",
              "      <td>163.0</td>\n",
              "      <td>58.0</td>\n",
              "      <td>2.0</td>\n",
              "      <td>female</td>\n",
              "      <td>right handed</td>\n",
              "      <td>college/bachelor degree</td>\n",
              "      <td>no</td>\n",
              "      <td>city</td>\n",
              "      <td>block of flats</td>\n",
              "    </tr>\n",
              "    <tr>\n",
              "      <th>2</th>\n",
              "      <td>tried smoking</td>\n",
              "      <td>drink a lot</td>\n",
              "      <td>2.0</td>\n",
              "      <td>4.0</td>\n",
              "      <td>1.0</td>\n",
              "      <td>4.0</td>\n",
              "      <td>3.0</td>\n",
              "      <td>4</td>\n",
              "      <td>2.0</td>\n",
              "      <td>20.0</td>\n",
              "      <td>176.0</td>\n",
              "      <td>67.0</td>\n",
              "      <td>2.0</td>\n",
              "      <td>female</td>\n",
              "      <td>right handed</td>\n",
              "      <td>secondary school</td>\n",
              "      <td>no</td>\n",
              "      <td>city</td>\n",
              "      <td>block of flats</td>\n",
              "    </tr>\n",
              "    <tr>\n",
              "      <th>3</th>\n",
              "      <td>former smoker</td>\n",
              "      <td>drink a lot</td>\n",
              "      <td>2.0</td>\n",
              "      <td>4.0</td>\n",
              "      <td>3.0</td>\n",
              "      <td>3.0</td>\n",
              "      <td>4.0</td>\n",
              "      <td>4</td>\n",
              "      <td>1.0</td>\n",
              "      <td>22.0</td>\n",
              "      <td>172.0</td>\n",
              "      <td>59.0</td>\n",
              "      <td>1.0</td>\n",
              "      <td>female</td>\n",
              "      <td>right handed</td>\n",
              "      <td>college/bachelor degree</td>\n",
              "      <td>yes</td>\n",
              "      <td>city</td>\n",
              "      <td>house/bungalow</td>\n",
              "    </tr>\n",
              "    <tr>\n",
              "      <th>4</th>\n",
              "      <td>tried smoking</td>\n",
              "      <td>social drinker</td>\n",
              "      <td>4.0</td>\n",
              "      <td>3.0</td>\n",
              "      <td>4.0</td>\n",
              "      <td>3.0</td>\n",
              "      <td>3.0</td>\n",
              "      <td>2</td>\n",
              "      <td>4.0</td>\n",
              "      <td>20.0</td>\n",
              "      <td>170.0</td>\n",
              "      <td>59.0</td>\n",
              "      <td>1.0</td>\n",
              "      <td>female</td>\n",
              "      <td>right handed</td>\n",
              "      <td>secondary school</td>\n",
              "      <td>no</td>\n",
              "      <td>village</td>\n",
              "      <td>house/bungalow</td>\n",
              "    </tr>\n",
              "  </tbody>\n",
              "</table>\n",
              "</div>\n",
              "      <button class=\"colab-df-convert\" onclick=\"convertToInteractive('df-935e2c92-31f1-4807-b5c3-d09a6eed3d0a')\"\n",
              "              title=\"Convert this dataframe to an interactive table.\"\n",
              "              style=\"display:none;\">\n",
              "        \n",
              "  <svg xmlns=\"http://www.w3.org/2000/svg\" height=\"24px\"viewBox=\"0 0 24 24\"\n",
              "       width=\"24px\">\n",
              "    <path d=\"M0 0h24v24H0V0z\" fill=\"none\"/>\n",
              "    <path d=\"M18.56 5.44l.94 2.06.94-2.06 2.06-.94-2.06-.94-.94-2.06-.94 2.06-2.06.94zm-11 1L8.5 8.5l.94-2.06 2.06-.94-2.06-.94L8.5 2.5l-.94 2.06-2.06.94zm10 10l.94 2.06.94-2.06 2.06-.94-2.06-.94-.94-2.06-.94 2.06-2.06.94z\"/><path d=\"M17.41 7.96l-1.37-1.37c-.4-.4-.92-.59-1.43-.59-.52 0-1.04.2-1.43.59L10.3 9.45l-7.72 7.72c-.78.78-.78 2.05 0 2.83L4 21.41c.39.39.9.59 1.41.59.51 0 1.02-.2 1.41-.59l7.78-7.78 2.81-2.81c.8-.78.8-2.07 0-2.86zM5.41 20L4 18.59l7.72-7.72 1.47 1.35L5.41 20z\"/>\n",
              "  </svg>\n",
              "      </button>\n",
              "      \n",
              "  <style>\n",
              "    .colab-df-container {\n",
              "      display:flex;\n",
              "      flex-wrap:wrap;\n",
              "      gap: 12px;\n",
              "    }\n",
              "\n",
              "    .colab-df-convert {\n",
              "      background-color: #E8F0FE;\n",
              "      border: none;\n",
              "      border-radius: 50%;\n",
              "      cursor: pointer;\n",
              "      display: none;\n",
              "      fill: #1967D2;\n",
              "      height: 32px;\n",
              "      padding: 0 0 0 0;\n",
              "      width: 32px;\n",
              "    }\n",
              "\n",
              "    .colab-df-convert:hover {\n",
              "      background-color: #E2EBFA;\n",
              "      box-shadow: 0px 1px 2px rgba(60, 64, 67, 0.3), 0px 1px 3px 1px rgba(60, 64, 67, 0.15);\n",
              "      fill: #174EA6;\n",
              "    }\n",
              "\n",
              "    [theme=dark] .colab-df-convert {\n",
              "      background-color: #3B4455;\n",
              "      fill: #D2E3FC;\n",
              "    }\n",
              "\n",
              "    [theme=dark] .colab-df-convert:hover {\n",
              "      background-color: #434B5C;\n",
              "      box-shadow: 0px 1px 3px 1px rgba(0, 0, 0, 0.15);\n",
              "      filter: drop-shadow(0px 1px 2px rgba(0, 0, 0, 0.3));\n",
              "      fill: #FFFFFF;\n",
              "    }\n",
              "  </style>\n",
              "\n",
              "      <script>\n",
              "        const buttonEl =\n",
              "          document.querySelector('#df-935e2c92-31f1-4807-b5c3-d09a6eed3d0a button.colab-df-convert');\n",
              "        buttonEl.style.display =\n",
              "          google.colab.kernel.accessAllowed ? 'block' : 'none';\n",
              "\n",
              "        async function convertToInteractive(key) {\n",
              "          const element = document.querySelector('#df-935e2c92-31f1-4807-b5c3-d09a6eed3d0a');\n",
              "          const dataTable =\n",
              "            await google.colab.kernel.invokeFunction('convertToInteractive',\n",
              "                                                     [key], {});\n",
              "          if (!dataTable) return;\n",
              "\n",
              "          const docLinkHtml = 'Like what you see? Visit the ' +\n",
              "            '<a target=\"_blank\" href=https://colab.research.google.com/notebooks/data_table.ipynb>data table notebook</a>'\n",
              "            + ' to learn more about interactive tables.';\n",
              "          element.innerHTML = '';\n",
              "          dataTable['output_type'] = 'display_data';\n",
              "          await google.colab.output.renderOutput(dataTable, element);\n",
              "          const docLink = document.createElement('div');\n",
              "          docLink.innerHTML = docLinkHtml;\n",
              "          element.appendChild(docLink);\n",
              "        }\n",
              "      </script>\n",
              "    </div>\n",
              "  </div>\n",
              "  "
            ]
          },
          "metadata": {},
          "execution_count": 14
        }
      ]
    },
    {
      "cell_type": "code",
      "source": [
        "#Display the last rows of the data set.\n",
        "df.tail()"
      ],
      "metadata": {
        "id": "OekKFCP7AvDp",
        "colab": {
          "base_uri": "https://localhost:8080/",
          "height": 409
        },
        "outputId": "2c130468-a847-44ce-bc8d-6696be7c362a"
      },
      "execution_count": 15,
      "outputs": [
        {
          "output_type": "execute_result",
          "data": {
            "text/plain": [
              "             Smoking         Alcohol  Finances  Shopping centres  \\\n",
              "1005  current smoker     drink a lot       3.0               5.0   \n",
              "1006    never smoked  social drinker       3.0               1.0   \n",
              "1007   tried smoking  social drinker       1.0               2.0   \n",
              "1008   tried smoking  social drinker       3.0               2.0   \n",
              "1009   tried smoking  social drinker       5.0               4.0   \n",
              "\n",
              "      Branded clothing  Entertainment spending  Spending on looks  \\\n",
              "1005               4.0                     3.0                4.0   \n",
              "1006               1.0                     1.0                1.0   \n",
              "1007               5.0                     2.0                2.0   \n",
              "1008               1.0                     5.0                3.0   \n",
              "1009               2.0                     3.0                1.0   \n",
              "\n",
              "      Spending on gadgets  Spending on healthy eating   Age  Height  Weight  \\\n",
              "1005                    3                         4.0  20.0   164.0    57.0   \n",
              "1006                    5                         3.0  27.0   183.0    80.0   \n",
              "1007                    2                         5.0  18.0   173.0    75.0   \n",
              "1008                    3                         3.0  25.0   173.0    58.0   \n",
              "1009                    1                         5.0  21.0   185.0    72.0   \n",
              "\n",
              "      Number of siblings  Gender Left - right handed                Education  \\\n",
              "1005                 1.0  female        right handed         secondary school   \n",
              "1006                 5.0    male         left handed           masters degree   \n",
              "1007                 0.0  female        right handed         secondary school   \n",
              "1008                 1.0  female        right handed  college/bachelor degree   \n",
              "1009                 1.0    male        right handed         secondary school   \n",
              "\n",
              "     Only child Village - town House - block of flats  \n",
              "1005         no           city         house/bungalow  \n",
              "1006         no        village         house/bungalow  \n",
              "1007        yes           city         block of flats  \n",
              "1008         no           city         block of flats  \n",
              "1009         no        village         house/bungalow  "
            ],
            "text/html": [
              "\n",
              "  <div id=\"df-8eb4257c-e028-4020-a492-df4311d0b4ec\">\n",
              "    <div class=\"colab-df-container\">\n",
              "      <div>\n",
              "<style scoped>\n",
              "    .dataframe tbody tr th:only-of-type {\n",
              "        vertical-align: middle;\n",
              "    }\n",
              "\n",
              "    .dataframe tbody tr th {\n",
              "        vertical-align: top;\n",
              "    }\n",
              "\n",
              "    .dataframe thead th {\n",
              "        text-align: right;\n",
              "    }\n",
              "</style>\n",
              "<table border=\"1\" class=\"dataframe\">\n",
              "  <thead>\n",
              "    <tr style=\"text-align: right;\">\n",
              "      <th></th>\n",
              "      <th>Smoking</th>\n",
              "      <th>Alcohol</th>\n",
              "      <th>Finances</th>\n",
              "      <th>Shopping centres</th>\n",
              "      <th>Branded clothing</th>\n",
              "      <th>Entertainment spending</th>\n",
              "      <th>Spending on looks</th>\n",
              "      <th>Spending on gadgets</th>\n",
              "      <th>Spending on healthy eating</th>\n",
              "      <th>Age</th>\n",
              "      <th>Height</th>\n",
              "      <th>Weight</th>\n",
              "      <th>Number of siblings</th>\n",
              "      <th>Gender</th>\n",
              "      <th>Left - right handed</th>\n",
              "      <th>Education</th>\n",
              "      <th>Only child</th>\n",
              "      <th>Village - town</th>\n",
              "      <th>House - block of flats</th>\n",
              "    </tr>\n",
              "  </thead>\n",
              "  <tbody>\n",
              "    <tr>\n",
              "      <th>1005</th>\n",
              "      <td>current smoker</td>\n",
              "      <td>drink a lot</td>\n",
              "      <td>3.0</td>\n",
              "      <td>5.0</td>\n",
              "      <td>4.0</td>\n",
              "      <td>3.0</td>\n",
              "      <td>4.0</td>\n",
              "      <td>3</td>\n",
              "      <td>4.0</td>\n",
              "      <td>20.0</td>\n",
              "      <td>164.0</td>\n",
              "      <td>57.0</td>\n",
              "      <td>1.0</td>\n",
              "      <td>female</td>\n",
              "      <td>right handed</td>\n",
              "      <td>secondary school</td>\n",
              "      <td>no</td>\n",
              "      <td>city</td>\n",
              "      <td>house/bungalow</td>\n",
              "    </tr>\n",
              "    <tr>\n",
              "      <th>1006</th>\n",
              "      <td>never smoked</td>\n",
              "      <td>social drinker</td>\n",
              "      <td>3.0</td>\n",
              "      <td>1.0</td>\n",
              "      <td>1.0</td>\n",
              "      <td>1.0</td>\n",
              "      <td>1.0</td>\n",
              "      <td>5</td>\n",
              "      <td>3.0</td>\n",
              "      <td>27.0</td>\n",
              "      <td>183.0</td>\n",
              "      <td>80.0</td>\n",
              "      <td>5.0</td>\n",
              "      <td>male</td>\n",
              "      <td>left handed</td>\n",
              "      <td>masters degree</td>\n",
              "      <td>no</td>\n",
              "      <td>village</td>\n",
              "      <td>house/bungalow</td>\n",
              "    </tr>\n",
              "    <tr>\n",
              "      <th>1007</th>\n",
              "      <td>tried smoking</td>\n",
              "      <td>social drinker</td>\n",
              "      <td>1.0</td>\n",
              "      <td>2.0</td>\n",
              "      <td>5.0</td>\n",
              "      <td>2.0</td>\n",
              "      <td>2.0</td>\n",
              "      <td>2</td>\n",
              "      <td>5.0</td>\n",
              "      <td>18.0</td>\n",
              "      <td>173.0</td>\n",
              "      <td>75.0</td>\n",
              "      <td>0.0</td>\n",
              "      <td>female</td>\n",
              "      <td>right handed</td>\n",
              "      <td>secondary school</td>\n",
              "      <td>yes</td>\n",
              "      <td>city</td>\n",
              "      <td>block of flats</td>\n",
              "    </tr>\n",
              "    <tr>\n",
              "      <th>1008</th>\n",
              "      <td>tried smoking</td>\n",
              "      <td>social drinker</td>\n",
              "      <td>3.0</td>\n",
              "      <td>2.0</td>\n",
              "      <td>1.0</td>\n",
              "      <td>5.0</td>\n",
              "      <td>3.0</td>\n",
              "      <td>3</td>\n",
              "      <td>3.0</td>\n",
              "      <td>25.0</td>\n",
              "      <td>173.0</td>\n",
              "      <td>58.0</td>\n",
              "      <td>1.0</td>\n",
              "      <td>female</td>\n",
              "      <td>right handed</td>\n",
              "      <td>college/bachelor degree</td>\n",
              "      <td>no</td>\n",
              "      <td>city</td>\n",
              "      <td>block of flats</td>\n",
              "    </tr>\n",
              "    <tr>\n",
              "      <th>1009</th>\n",
              "      <td>tried smoking</td>\n",
              "      <td>social drinker</td>\n",
              "      <td>5.0</td>\n",
              "      <td>4.0</td>\n",
              "      <td>2.0</td>\n",
              "      <td>3.0</td>\n",
              "      <td>1.0</td>\n",
              "      <td>1</td>\n",
              "      <td>5.0</td>\n",
              "      <td>21.0</td>\n",
              "      <td>185.0</td>\n",
              "      <td>72.0</td>\n",
              "      <td>1.0</td>\n",
              "      <td>male</td>\n",
              "      <td>right handed</td>\n",
              "      <td>secondary school</td>\n",
              "      <td>no</td>\n",
              "      <td>village</td>\n",
              "      <td>house/bungalow</td>\n",
              "    </tr>\n",
              "  </tbody>\n",
              "</table>\n",
              "</div>\n",
              "      <button class=\"colab-df-convert\" onclick=\"convertToInteractive('df-8eb4257c-e028-4020-a492-df4311d0b4ec')\"\n",
              "              title=\"Convert this dataframe to an interactive table.\"\n",
              "              style=\"display:none;\">\n",
              "        \n",
              "  <svg xmlns=\"http://www.w3.org/2000/svg\" height=\"24px\"viewBox=\"0 0 24 24\"\n",
              "       width=\"24px\">\n",
              "    <path d=\"M0 0h24v24H0V0z\" fill=\"none\"/>\n",
              "    <path d=\"M18.56 5.44l.94 2.06.94-2.06 2.06-.94-2.06-.94-.94-2.06-.94 2.06-2.06.94zm-11 1L8.5 8.5l.94-2.06 2.06-.94-2.06-.94L8.5 2.5l-.94 2.06-2.06.94zm10 10l.94 2.06.94-2.06 2.06-.94-2.06-.94-.94-2.06-.94 2.06-2.06.94z\"/><path d=\"M17.41 7.96l-1.37-1.37c-.4-.4-.92-.59-1.43-.59-.52 0-1.04.2-1.43.59L10.3 9.45l-7.72 7.72c-.78.78-.78 2.05 0 2.83L4 21.41c.39.39.9.59 1.41.59.51 0 1.02-.2 1.41-.59l7.78-7.78 2.81-2.81c.8-.78.8-2.07 0-2.86zM5.41 20L4 18.59l7.72-7.72 1.47 1.35L5.41 20z\"/>\n",
              "  </svg>\n",
              "      </button>\n",
              "      \n",
              "  <style>\n",
              "    .colab-df-container {\n",
              "      display:flex;\n",
              "      flex-wrap:wrap;\n",
              "      gap: 12px;\n",
              "    }\n",
              "\n",
              "    .colab-df-convert {\n",
              "      background-color: #E8F0FE;\n",
              "      border: none;\n",
              "      border-radius: 50%;\n",
              "      cursor: pointer;\n",
              "      display: none;\n",
              "      fill: #1967D2;\n",
              "      height: 32px;\n",
              "      padding: 0 0 0 0;\n",
              "      width: 32px;\n",
              "    }\n",
              "\n",
              "    .colab-df-convert:hover {\n",
              "      background-color: #E2EBFA;\n",
              "      box-shadow: 0px 1px 2px rgba(60, 64, 67, 0.3), 0px 1px 3px 1px rgba(60, 64, 67, 0.15);\n",
              "      fill: #174EA6;\n",
              "    }\n",
              "\n",
              "    [theme=dark] .colab-df-convert {\n",
              "      background-color: #3B4455;\n",
              "      fill: #D2E3FC;\n",
              "    }\n",
              "\n",
              "    [theme=dark] .colab-df-convert:hover {\n",
              "      background-color: #434B5C;\n",
              "      box-shadow: 0px 1px 3px 1px rgba(0, 0, 0, 0.15);\n",
              "      filter: drop-shadow(0px 1px 2px rgba(0, 0, 0, 0.3));\n",
              "      fill: #FFFFFF;\n",
              "    }\n",
              "  </style>\n",
              "\n",
              "      <script>\n",
              "        const buttonEl =\n",
              "          document.querySelector('#df-8eb4257c-e028-4020-a492-df4311d0b4ec button.colab-df-convert');\n",
              "        buttonEl.style.display =\n",
              "          google.colab.kernel.accessAllowed ? 'block' : 'none';\n",
              "\n",
              "        async function convertToInteractive(key) {\n",
              "          const element = document.querySelector('#df-8eb4257c-e028-4020-a492-df4311d0b4ec');\n",
              "          const dataTable =\n",
              "            await google.colab.kernel.invokeFunction('convertToInteractive',\n",
              "                                                     [key], {});\n",
              "          if (!dataTable) return;\n",
              "\n",
              "          const docLinkHtml = 'Like what you see? Visit the ' +\n",
              "            '<a target=\"_blank\" href=https://colab.research.google.com/notebooks/data_table.ipynb>data table notebook</a>'\n",
              "            + ' to learn more about interactive tables.';\n",
              "          element.innerHTML = '';\n",
              "          dataTable['output_type'] = 'display_data';\n",
              "          await google.colab.output.renderOutput(dataTable, element);\n",
              "          const docLink = document.createElement('div');\n",
              "          docLink.innerHTML = docLinkHtml;\n",
              "          element.appendChild(docLink);\n",
              "        }\n",
              "      </script>\n",
              "    </div>\n",
              "  </div>\n",
              "  "
            ]
          },
          "metadata": {},
          "execution_count": 15
        }
      ]
    },
    {
      "cell_type": "code",
      "source": [
        "# Display the number of rows and columns\n",
        "df.shape"
      ],
      "metadata": {
        "colab": {
          "base_uri": "https://localhost:8080/"
        },
        "id": "u0wFjolItyHU",
        "outputId": "ab9e214d-b7d1-4446-823a-8d0f351c427a"
      },
      "execution_count": 16,
      "outputs": [
        {
          "output_type": "execute_result",
          "data": {
            "text/plain": [
              "(1010, 19)"
            ]
          },
          "metadata": {},
          "execution_count": 16
        }
      ]
    },
    {
      "cell_type": "markdown",
      "source": [
        "To get a general and quick description of the dataset, we are going to use the pandas datafream.info() function, with this method we can print the information or summary of the data set, such as our data type, the number of columns that we have, non-values and memory usage."
      ],
      "metadata": {
        "id": "4Tmnwo6Vutjz"
      }
    },
    {
      "cell_type": "code",
      "source": [
        "#Give us information about the data set \n",
        "df.info()"
      ],
      "metadata": {
        "colab": {
          "base_uri": "https://localhost:8080/"
        },
        "id": "Uitoa2eYuE16",
        "outputId": "cad3ea34-0de8-4a5f-ba8d-197671bcdef7"
      },
      "execution_count": 17,
      "outputs": [
        {
          "output_type": "stream",
          "name": "stdout",
          "text": [
            "<class 'pandas.core.frame.DataFrame'>\n",
            "RangeIndex: 1010 entries, 0 to 1009\n",
            "Data columns (total 19 columns):\n",
            " #   Column                      Non-Null Count  Dtype  \n",
            "---  ------                      --------------  -----  \n",
            " 0   Smoking                     1002 non-null   object \n",
            " 1   Alcohol                     1005 non-null   object \n",
            " 2   Finances                    1007 non-null   float64\n",
            " 3   Shopping centres            1008 non-null   float64\n",
            " 4   Branded clothing            1008 non-null   float64\n",
            " 5   Entertainment spending      1007 non-null   float64\n",
            " 6   Spending on looks           1007 non-null   float64\n",
            " 7   Spending on gadgets         1010 non-null   int64  \n",
            " 8   Spending on healthy eating  1008 non-null   float64\n",
            " 9   Age                         1003 non-null   float64\n",
            " 10  Height                      990 non-null    float64\n",
            " 11  Weight                      990 non-null    float64\n",
            " 12  Number of siblings          1004 non-null   float64\n",
            " 13  Gender                      1004 non-null   object \n",
            " 14  Left - right handed         1007 non-null   object \n",
            " 15  Education                   1009 non-null   object \n",
            " 16  Only child                  1008 non-null   object \n",
            " 17  Village - town              1006 non-null   object \n",
            " 18  House - block of flats      1006 non-null   object \n",
            "dtypes: float64(10), int64(1), object(8)\n",
            "memory usage: 150.0+ KB\n"
          ]
        }
      ]
    },
    {
      "cell_type": "markdown",
      "source": [
        "As we can see with the three functions above, we can get a quick look at our dataset. In this case, we can see that we have a dataset of 1010 rows with 19 columns, of which eight variables are qualitative data type (object), ten are quantitative continuous (float64), and one appears as quantitative discrete(int64). We can also see that some columns have missing values."
      ],
      "metadata": {
        "id": "wtyXfEiJ_hEl"
      }
    },
    {
      "cell_type": "markdown",
      "source": [
        "## Descriptive statistics \n",
        "\n",
        "\n",
        "Descriptive statistics is the analytical approach to statistics where the collected data is analysed later to describe its behaviour in the context of the investigation. This description uses graphics such as tables, figures, diagrams and histograms.\n",
        "\n",
        "\n",
        "> \"*Descriptive statistics is the area most people are familiar with. We will touch on the basics like mean, median, and mode followed by variance, standard deviation, and the normal distribution.*\" (Nield, 2022)\n",
        "\n",
        "There are three types of statistical measures to describe the data:\n",
        "\n",
        "* Measures of Central Tendency: Mean, Median, Mode\n",
        "* Measures of Variation: Range, Standard Deviation, and Interquartile Range.\n",
        "* Measures of shape: Skew and Kurtosis.\n",
        "\n",
        "In simple words, descriptive statistics help to describe and understand the characteristics of a specific data set by providing brief summaries of the sample and measures of the data.\n",
        "\n"
      ],
      "metadata": {
        "id": "l4udcLw06XjM"
      }
    },
    {
      "cell_type": "markdown",
      "source": [
        "### Measures of Central Tendency\n",
        "\n",
        "\n",
        "Measures of central tendency focus on the mean or median values of data sets; described the central position of a distribution for a data set. The frequency of each data point in the distribution is analysed and defined by the mean, median, or mode, which measures the most common patterns in the analysed data set.\n",
        "\n",
        "> \"*Measures of central tendency help describe to what extent this pattern holds for a specific numerical variable.*\" (Levine and Stephan, 2015)\n",
        "\n",
        "The measures of central tendency help us understand our dataset's distribution under the following arguments.\n",
        "\n",
        "For a normal distribution, mode=mean=median.\n",
        "\n",
        "For a positively skewed distribution,  mode< median < mean.\n",
        "\n",
        "For a negatively skewed distribution, mean < median<mode.\n",
        "\n",
        "For this section of the project we have chosen the following variables:\n",
        "\n",
        "* **Quantitative:** Age\n",
        "\n",
        "* **Qualitative:** Education\n",
        "\n",
        "\n",
        "\n"
      ],
      "metadata": {
        "id": "W4wL2NpZpSN0"
      }
    },
    {
      "cell_type": "code",
      "source": [
        "# Create the new dataframe for quantitative variable\n",
        "df_quantitative = df[\"Age\"]"
      ],
      "metadata": {
        "id": "qDm82rjeChIV"
      },
      "execution_count": 18,
      "outputs": []
    },
    {
      "cell_type": "code",
      "source": [
        "# Create the new dataframe for qualitative variable\n",
        "df_qualitative = df[\"Education\"]"
      ],
      "metadata": {
        "id": "RLsiM9MACifu"
      },
      "execution_count": 19,
      "outputs": []
    },
    {
      "cell_type": "markdown",
      "source": [
        "#### Quantitative Varible : **Age**"
      ],
      "metadata": {
        "id": "KZTKKPy83fRD"
      }
    },
    {
      "cell_type": "markdown",
      "source": [
        "#### Mean \n",
        "Mean is the average of some data points. It is the simplest measure of central tendency that takes the sum of the observations and divides the sum by the number of observations. Although arithmetic means it is the most widely known measure of Central Tendency, it is not a robust metric; it can be susceptible to outliers.\n"
      ],
      "metadata": {
        "id": "BFPjABXMqXJc"
      }
    },
    {
      "cell_type": "code",
      "source": [
        "# give us the mean\n",
        "print(\"The avarage of column  'Age' is :\")\n",
        "mean_age=df_quantitative.mean()\n",
        "print(mean_age)"
      ],
      "metadata": {
        "colab": {
          "base_uri": "https://localhost:8080/"
        },
        "id": "S2BuYYWrT7A8",
        "outputId": "24670ecb-0d90-40d2-a453-4b2940183cc4"
      },
      "execution_count": 20,
      "outputs": [
        {
          "output_type": "stream",
          "name": "stdout",
          "text": [
            "The avarage of column  'Age' is :\n",
            "20.43369890329013\n"
          ]
        }
      ]
    },
    {
      "cell_type": "markdown",
      "source": [
        "#### Median\n",
        "\n",
        "It is the value that is in the middle of the data sorted in ascending order, leaving half of the values on either side. If the data are skewed or contain outliers, the median is a better centrality metric than the mean because it does not care about the values.\n",
        "\n",
        "\n",
        "> \"*The median can be a helpful alternative to the mean when data is skewed by outliers, or values that are extremely large and small compared to the rest of the values.*\"(Nield, 2022)\n",
        "\n"
      ],
      "metadata": {
        "id": "2eLAefbuqf6o"
      }
    },
    {
      "cell_type": "code",
      "source": [
        "# give us the median\n",
        "print(\"The median  of column 'Age' is :\")\n",
        "median_age=df_quantitative.median()\n",
        "print(median_age)"
      ],
      "metadata": {
        "colab": {
          "base_uri": "https://localhost:8080/"
        },
        "id": "gClVYwuF4Euo",
        "outputId": "343b6e72-3c1b-4714-de3b-4339d0a63920"
      },
      "execution_count": 21,
      "outputs": [
        {
          "output_type": "stream",
          "name": "stdout",
          "text": [
            "The median  of column 'Age' is :\n",
            "20.0\n"
          ]
        }
      ]
    },
    {
      "cell_type": "markdown",
      "source": [
        "#### Mode\n",
        "The mode is the most frequently occurring value in the data, the value with the highest frequency.\n",
        "\n",
        "There are three different mode types according to the number of repeated modes within the data set. The data set is bimodal if two values are present simultaneously and more than the other values. If three values are current simultaneously and more than the rest of the values, the dataset is trimodal, and for n modes, the dataset is multimodal."
      ],
      "metadata": {
        "id": "Yc5nR4xz39An"
      }
    },
    {
      "cell_type": "code",
      "source": [
        "#Print the  following sentence\n",
        "print(\"The mode of column 'Age' is :\")\n",
        "#Give us the mode of the dataset\n",
        "mode_age=df_quantitative.mode()\n",
        "print(mode_age)"
      ],
      "metadata": {
        "colab": {
          "base_uri": "https://localhost:8080/"
        },
        "id": "upZlxtSR3-sO",
        "outputId": "28161b1b-ff58-4617-ef63-08197c346f6a"
      },
      "execution_count": 22,
      "outputs": [
        {
          "output_type": "stream",
          "name": "stdout",
          "text": [
            "The mode of column 'Age' is :\n",
            "0    19.0\n",
            "dtype: float64\n"
          ]
        }
      ]
    },
    {
      "cell_type": "code",
      "source": [
        "df_quantitative.value_counts()"
      ],
      "metadata": {
        "colab": {
          "base_uri": "https://localhost:8080/"
        },
        "id": "XM9SXLuLzN7b",
        "outputId": "ff624fd1-b457-4625-ae73-66d7a9fc99d8"
      },
      "execution_count": 23,
      "outputs": [
        {
          "output_type": "execute_result",
          "data": {
            "text/plain": [
              "19.0    210\n",
              "20.0    194\n",
              "21.0    127\n",
              "18.0    123\n",
              "22.0     84\n",
              "17.0     53\n",
              "23.0     47\n",
              "25.0     30\n",
              "16.0     29\n",
              "24.0     28\n",
              "28.0     17\n",
              "26.0     15\n",
              "27.0     14\n",
              "15.0     11\n",
              "29.0     11\n",
              "30.0     10\n",
              "Name: Age, dtype: int64"
            ]
          },
          "metadata": {},
          "execution_count": 23
        }
      ]
    },
    {
      "cell_type": "markdown",
      "source": [
        "According to the measures of central tendency obtained previously, we observed  the mode  is equal to 19, the median is equal to 20, and the mean is equal to 20.43;We can say that the variable \"Age\" **does not follow a normal distribution.**\n",
        "\n",
        "Since the mode is less than the median and the median is less than the mean. We can affirm that we have a **unimodal distribution with a slight positive sweked** because the difference between the values is minimal.\n",
        "\n",
        "**19  <  20   < 20.43**\n"
      ],
      "metadata": {
        "id": "E5VqIQEjj9S8"
      }
    },
    {
      "cell_type": "markdown",
      "source": [
        "#### Qualitative Variable: **Education Level**\n"
      ],
      "metadata": {
        "id": "WRT5KfHr4Rdl"
      }
    },
    {
      "cell_type": "markdown",
      "source": [
        "#### Mode\n",
        "We can use the mode with categorical, ordinal, and discrete data. The mode is the only choice to measure central tendency in the case of categorical data. However, there isn't a central value with categorical data because you can't order the groups. The mode can be a value not in the center with ordinal and discrete data. Again, the mode represents the most common value.\n",
        "\n",
        "> \"*The mode is the only measure of central tendency that can be used to categorical variables.*\"(Nield, 2022)\n",
        "\n",
        "\n"
      ],
      "metadata": {
        "id": "Vim7Ong8qlyY"
      }
    },
    {
      "cell_type": "code",
      "source": [
        "#Print the  following sentence\n",
        "print(\"The mode of column 'Education Level' is :\")\n",
        "#Give us the mode of the dataset\n",
        "mode_education=df_qualitative.mode()\n",
        "print(mode_education)"
      ],
      "metadata": {
        "colab": {
          "base_uri": "https://localhost:8080/"
        },
        "id": "qVQzxotXVL3g",
        "outputId": "9b8bc21b-a827-417a-ffd7-f10d4cc70b1f"
      },
      "execution_count": 24,
      "outputs": [
        {
          "output_type": "stream",
          "name": "stdout",
          "text": [
            "The mode of column 'Education Level' is :\n",
            "0    secondary school\n",
            "dtype: object\n"
          ]
        }
      ]
    },
    {
      "cell_type": "code",
      "source": [
        "# Return a Series containing counts of unique values.\n",
        "df_qualitative.value_counts()"
      ],
      "metadata": {
        "colab": {
          "base_uri": "https://localhost:8080/"
        },
        "id": "_qHj_m8xT9qS",
        "outputId": "ddbe9415-9a12-4033-fa0b-944dc3eefd65"
      },
      "execution_count": 25,
      "outputs": [
        {
          "output_type": "execute_result",
          "data": {
            "text/plain": [
              "secondary school                    621\n",
              "college/bachelor degree             212\n",
              "masters degree                       81\n",
              "primary school                       80\n",
              "currently a primary school pupil     10\n",
              "doctorate degree                      5\n",
              "Name: Education, dtype: int64"
            ]
          },
          "metadata": {},
          "execution_count": 25
        }
      ]
    },
    {
      "cell_type": "markdown",
      "source": [
        "\n",
        "Based on the results,\"Education Level\" has a unimodal value **secondary school** that is the value that appears the most in the dataset.\n",
        "\n",
        "We use the DataFrame.values() function to obtain the frequency of the mode; according to this, We can conclude that the mode high school appears 621 times, representing 61.48% of the total."
      ],
      "metadata": {
        "id": "MJHu0dlIUznZ"
      }
    },
    {
      "cell_type": "markdown",
      "source": [
        "### Measures of Variability\n",
        "\n",
        "Measures of variation show the amount of dispersion, or spread, in the data values of a numerical variable. Four frequently used measures of variation are the range, the variance,and the standard deviation, all of which can be calculated as either sample statistics or population parameters. (Levine and Stephan, 2015)"
      ],
      "metadata": {
        "id": "gznAl0pCpb5O"
      }
    },
    {
      "cell_type": "markdown",
      "source": [
        "##### Quantitative Varible : **Age**"
      ],
      "metadata": {
        "id": "UJ5Ep0FA5SAn"
      }
    },
    {
      "cell_type": "markdown",
      "source": [
        "#### Variance \n",
        "The variance is a measure of how far individual (numeric) values in a dataset are from the mean or average value.\n",
        "\n",
        "According to Levine and Stephan (2015), To calculate the variance, you take the difference between each data value and the mean, square this difference and then sum the squared differences. You then divide this sum of squares (or SS) by one less than the number of data values."
      ],
      "metadata": {
        "id": "QfrgIgQoSXAC"
      }
    },
    {
      "cell_type": "code",
      "source": [
        "#Print the  following sentence\n",
        "print(\"The variance of column 'Age' is :\")\n",
        "# print the variance \n",
        "variance_age=df_quantitative.var()\n",
        "print(variance_age)"
      ],
      "metadata": {
        "colab": {
          "base_uri": "https://localhost:8080/"
        },
        "id": "PQeSL2O3Cj50",
        "outputId": "060152f0-8aac-4b69-b102-06550c5e312b"
      },
      "execution_count": 26,
      "outputs": [
        {
          "output_type": "stream",
          "name": "stdout",
          "text": [
            "The variance of column 'Age' is :\n",
            "8.002336304459874\n"
          ]
        }
      ]
    },
    {
      "cell_type": "markdown",
      "source": [
        "#### Standar Deviation \n",
        "\n",
        "The Standard deviation is a measure used in statistics to indicate the dispersion or variation of a data set.\n",
        "Specifically, its calculation is based on measuring the relationship of the data to the mean, using the square root of the variance.\n",
        "\n",
        "\n",
        " <center>\n",
        "\n",
        "<img src=https://www.isixsigma.com/wp-content/uploads/2018/11/standard-deviation-formula.png width=200>\n",
        "\n",
        " </center>\n",
        "\n",
        "\n",
        "\n",
        "It is the most common measure of dispersion and is, therefore, frequently used in various fields such as medicine, and population statistics, among many other applications."
      ],
      "metadata": {
        "id": "fKPDztQOqsrs"
      }
    },
    {
      "cell_type": "code",
      "source": [
        "#Print the  following sentence\n",
        "print(\"The standard deviation of column 'Age' is :\")\n",
        "# give us the std \n",
        "std_age=df_quantitative.std()\n",
        "# print the std.\n",
        "print(std_age)"
      ],
      "metadata": {
        "colab": {
          "base_uri": "https://localhost:8080/"
        },
        "id": "CqhdWzkUSiUG",
        "outputId": "7f6907d3-9aec-4a7f-f64e-5fb590934260"
      },
      "execution_count": 28,
      "outputs": [
        {
          "output_type": "stream",
          "name": "stdout",
          "text": [
            "The standard deviation of column 'Age' is :\n",
            "2.828840098778981\n"
          ]
        }
      ]
    },
    {
      "cell_type": "markdown",
      "source": [
        "#### Range \n",
        "Range is one of the simplest techniques of descriptive statistics. It is the difference between the lowest and highest value."
      ],
      "metadata": {
        "id": "AqFdK--lXYbi"
      }
    },
    {
      "cell_type": "code",
      "source": [
        "# print the min value in the column age.\n",
        "print(\"The Min of the column  'Age' is :\")\n",
        "min_age = df_quantitative.min()\n",
        "print(min_age)"
      ],
      "metadata": {
        "colab": {
          "base_uri": "https://localhost:8080/"
        },
        "id": "dJHAnI9SH-oZ",
        "outputId": "76e9336a-3e05-4e34-b1d3-779d001b445e"
      },
      "execution_count": 30,
      "outputs": [
        {
          "output_type": "stream",
          "name": "stdout",
          "text": [
            "The Min of the column  'Age' is :\n",
            "15.0\n"
          ]
        }
      ]
    },
    {
      "cell_type": "code",
      "source": [
        "# print the max value in the column age.\n",
        "print(\"The Max of the column  'Age' is :\")\n",
        "max_age = df_quantitative.max()\n",
        "print(max_age)"
      ],
      "metadata": {
        "colab": {
          "base_uri": "https://localhost:8080/"
        },
        "id": "FpB8SKAMIGHe",
        "outputId": "b5a7e74f-1843-4059-94f6-1e3aa73420f1"
      },
      "execution_count": 32,
      "outputs": [
        {
          "output_type": "stream",
          "name": "stdout",
          "text": [
            "The Max of the column  'Age' is :\n",
            "30.0\n"
          ]
        }
      ]
    },
    {
      "cell_type": "code",
      "source": [
        "#print the range of the column age\n",
        "print(\"The range of the column  'Age' is :\")\n",
        "range_age= (max_age-min_age)\n",
        "print(range_age)"
      ],
      "metadata": {
        "colab": {
          "base_uri": "https://localhost:8080/"
        },
        "id": "TFsgtZn-Z1Ux",
        "outputId": "95c0ee80-f76b-4b83-ea4d-b29c6b4d9b3c"
      },
      "execution_count": 33,
      "outputs": [
        {
          "output_type": "stream",
          "name": "stdout",
          "text": [
            "The range of the column  'Age' is :\n",
            "15.0\n"
          ]
        }
      ]
    },
    {
      "cell_type": "markdown",
      "source": [
        "#### Quartiles \n",
        "In statistics and probability, quartiles are values that divide your data into quarters provided data is sorted in an ascending order.\n",
        "\n",
        "There are three quartile values. First quartile value is at 25 percentile. Second quartile is 50 percentile and the third quartile is 75 percentile. Second quartile (Q2) is median of the whole data. First quartile (Q1) is median of upper half of the data. And Third Quartile (Q3) is median of lower half of the data.\n",
        "\n",
        " <center>\n",
        "\n",
        "<img src=https://cdn.scribbr.com/wp-content/uploads/2020/09/iqr_boxplot.png width=500>\n",
        "\n",
        " </center>\n",
        "\n",
        "\n",
        "\n"
      ],
      "metadata": {
        "id": "ckUzhfa4Wswf"
      }
    },
    {
      "cell_type": "code",
      "source": [
        "# Return values at the given the first quantile.\n",
        "print(\"The first quantile of the column  'Age' is :\")\n",
        "first_quantile = df_quantitative.quantile(0.25)\n",
        "print(first_quantile)"
      ],
      "metadata": {
        "colab": {
          "base_uri": "https://localhost:8080/"
        },
        "id": "qDV9VnN-Wr5M",
        "outputId": "03a12ad6-7eb7-4e27-f675-6682ef8e4d30"
      },
      "execution_count": 34,
      "outputs": [
        {
          "output_type": "stream",
          "name": "stdout",
          "text": [
            "The first quantile of the column  'Age' is :\n",
            "19.0\n"
          ]
        }
      ]
    },
    {
      "cell_type": "code",
      "source": [
        "# Return values at the given the first quantile.\n",
        "print(\"The third quantile of the column  'Age' is :\")\n",
        "third_quantile = df_quantitative.quantile(0.75)\n",
        "print(third_quantile)"
      ],
      "metadata": {
        "colab": {
          "base_uri": "https://localhost:8080/"
        },
        "id": "YPRFj_DoWznu",
        "outputId": "9d06f8d9-f612-4169-e2a9-54e3c95b26e2"
      },
      "execution_count": 35,
      "outputs": [
        {
          "output_type": "stream",
          "name": "stdout",
          "text": [
            "The third quantile of the column  'Age' is :\n",
            "22.0\n"
          ]
        }
      ]
    },
    {
      "cell_type": "code",
      "source": [
        "# Return the ITQ \n",
        "print(\"The Interquartile range of the column  'Age' is :\")\n",
        "IQR=(third_quantile-first_quantile)\n",
        "print (IQR)"
      ],
      "metadata": {
        "colab": {
          "base_uri": "https://localhost:8080/"
        },
        "id": "PbTW7cZRW4VF",
        "outputId": "c9fb45e9-92ee-4c73-dbc8-34d34b345c04"
      },
      "execution_count": 36,
      "outputs": [
        {
          "output_type": "stream",
          "name": "stdout",
          "text": [
            "The Interquartile range of the column  'Age' is :\n",
            "3.0\n"
          ]
        }
      ]
    },
    {
      "cell_type": "markdown",
      "source": [
        "Variability measures tell us how to spread the data in our dataset. Based on the data obtained in this section, we can conclude that our data does not follow a normal distribution because std dev (2.82) is greater than 1. Since our mean age is 20, the data deviates almost three years.\n",
        "\n",
        "The range tells us that we have a difference of 15 years between the maximum value and the minimum. As we can see the Dataset is not so dispersed according to the values obtained; We can also deduce that the variable has upper outliers, as the Q3 = 22 and the max = 30.The IQR = [19,22] So the majority of the millennials interviewed are between the ages of 19 and 22."
      ],
      "metadata": {
        "id": "DAQ1lyKNkTuZ"
      }
    },
    {
      "cell_type": "markdown",
      "source": [
        "### Measures of shape\n",
        "\n",
        "Measures of Shape, a third important property of a set of numerical data, describes the pattern of the distribution of data values in a set data values. There are three possibilities: symmetric, left-skewed, or right-skewed. Shape is important as a set of data values that is too badly skewed can make certain statistical methods invalid.(Levine and Stephan, 2015)"
      ],
      "metadata": {
        "id": "UFLr1ip8pmvG"
      }
    },
    {
      "cell_type": "markdown",
      "source": [
        "##### Quantitative Varible : **Age**"
      ],
      "metadata": {
        "id": "QuEwNrCdTCUM"
      }
    },
    {
      "cell_type": "markdown",
      "source": [
        "#### Skew"
      ],
      "metadata": {
        "id": "zHnGIl6AUsKv"
      }
    },
    {
      "cell_type": "markdown",
      "source": [
        "\n",
        "\n",
        "Skewness is used in order to measure the level of asymmetry in our graph. It is the measure of asymmetry that takes place when our data deviates from the mean (Simplilearn.com, 2009).\n",
        "\n",
        "The skewness can be:\n",
        "\n",
        "*Skewness = 0; perfect symmetry               \n",
        "*Skewness < 0 ; left-skewed          \n",
        "*Skewness > 0; right skewed\n",
        "\n",
        "\n",
        " <center>\n",
        "\n",
        "<img src=https://cdn.analystprep.com/study-notes/wp-content/uploads/2019/08/21045703/Page-33a.jpg width=500>\n",
        "\n",
        " </center>\n"
      ],
      "metadata": {
        "id": "xH1urgR32twT"
      }
    },
    {
      "cell_type": "code",
      "source": [
        "# print the skwened.\n",
        "print(\"The skew of column 'Age' is :\")\n",
        "skewness_age = df_quantitative.skew()\n",
        "print(skewness_age)"
      ],
      "metadata": {
        "colab": {
          "base_uri": "https://localhost:8080/"
        },
        "id": "0vShTk3gjJKa",
        "outputId": "64926851-c699-4071-b8c7-a3ba0cfd931d"
      },
      "execution_count": 37,
      "outputs": [
        {
          "output_type": "stream",
          "name": "stdout",
          "text": [
            "The skew of column 'Age' is :\n",
            "1.1487436935303843\n"
          ]
        }
      ]
    },
    {
      "cell_type": "markdown",
      "source": [
        "#### Kurtosis"
      ],
      "metadata": {
        "id": "ZMwXAX8nBXjU"
      }
    },
    {
      "cell_type": "markdown",
      "source": [
        "Kurtosis is a statistical measure used to describe a characteristic of a dataset. When normally distributed data is plotted on a graph, it generally takes the form of an upsidedown bell. This is called the bell curve. The plotted data that are furthest from the mean of the data usually form the tails on each side of the curve. Kurtosis indicates how much data resides in the tails.(Kenton, 2019)\n",
        "\n",
        "Kurtosis is a statistical measure that defines how heavily the tails of a distribution differ from the tails of a normal distribution\n",
        "\n",
        "Types of Kurtosis:\n",
        "\n",
        "1 Mesokurtic (kurtosis = 3.0)         \n",
        "2 Leptokurtic (kurtosis > 3.0)            \n",
        "3 Platykurtic (kurtosis < 3.0)\n",
        "\n",
        "\n",
        "\n",
        "\n",
        " <center>\n",
        "\n",
        "<img src=https://analystprep.com/cfa-level-1-exam/wp-content/uploads/2019/08/page-64.png width=500>\n",
        "\n",
        " </center>"
      ],
      "metadata": {
        "id": "TMT03cPo3GwA"
      }
    },
    {
      "cell_type": "code",
      "source": [
        "# print the kurtosis \n",
        "print(\"The Kurtosis of column 'Age' is :\")\n",
        "kurtosis_age=df_quantitative.kurtosis()\n",
        "print(kurtosis_age)"
      ],
      "metadata": {
        "colab": {
          "base_uri": "https://localhost:8080/"
        },
        "id": "J-NhuUogjGNs",
        "outputId": "a48f2660-7d97-476f-b2e4-dd3708cab972"
      },
      "execution_count": 38,
      "outputs": [
        {
          "output_type": "stream",
          "name": "stdout",
          "text": [
            "The Kurtosis of column 'Age' is :\n",
            "1.578873501936902\n"
          ]
        }
      ]
    },
    {
      "cell_type": "markdown",
      "source": [
        "According to the value obtained, we have a skewed of 1.14. We can confirm that we have a positive skewed to the right; Since our Kurtosis is less than three, we can affirm that our type of Kurtosis is platykurtic, which means that the distribution will have thinner tails than a normal distribution due to the fact that most of the data is concentrated in the centre of the distribution.\n"
      ],
      "metadata": {
        "id": "F1zLGxUbVBMX"
      }
    },
    {
      "cell_type": "markdown",
      "source": [
        "\n",
        "### DataFrame.describe()\n",
        "\n",
        "An easier way to obtain a statistical summary of the dataset is using the DataFrame.describe() function from the pandas' library.\n",
        "This function allows us to obtain a summary of the measures of central tendency, dispersion and shape of the distribution of a data set, excluding the NaN values.\n",
        "\n",
        "Analyzes both numeric and object series, as well as DataFrame column sets of mixed data types. The output will vary depending on what is provided. Refer to the notes below for more detail. (pandas.pydata.org, n.d.)"
      ],
      "metadata": {
        "id": "Mbu6SZeVVWu9"
      }
    },
    {
      "cell_type": "code",
      "source": [
        "#returns description of the data in the DataFrame.\n",
        "df.describe()"
      ],
      "metadata": {
        "colab": {
          "base_uri": "https://localhost:8080/",
          "height": 361
        },
        "id": "6-3sVMTzVnPE",
        "outputId": "5c907fc9-bdb5-46ed-9221-d9f38e00e388"
      },
      "execution_count": 39,
      "outputs": [
        {
          "output_type": "execute_result",
          "data": {
            "text/plain": [
              "          Finances  Shopping centres  Branded clothing  \\\n",
              "count  1007.000000       1008.000000       1008.000000   \n",
              "mean      3.023833          3.234127          3.050595   \n",
              "std       1.144365          1.323062          1.306321   \n",
              "min       1.000000          1.000000          1.000000   \n",
              "25%       2.000000          2.000000          2.000000   \n",
              "50%       3.000000          3.000000          3.000000   \n",
              "75%       4.000000          4.000000          4.000000   \n",
              "max       5.000000          5.000000          5.000000   \n",
              "\n",
              "       Entertainment spending  Spending on looks  Spending on gadgets  \\\n",
              "count             1007.000000        1007.000000          1010.000000   \n",
              "mean                 3.201589           3.106256             2.870297   \n",
              "std                  1.188947           1.205368             1.284970   \n",
              "min                  1.000000           1.000000             1.000000   \n",
              "25%                  2.000000           2.000000             2.000000   \n",
              "50%                  3.000000           3.000000             3.000000   \n",
              "75%                  4.000000           4.000000             4.000000   \n",
              "max                  5.000000           5.000000             5.000000   \n",
              "\n",
              "       Spending on healthy eating          Age      Height      Weight  \\\n",
              "count                  1008.00000  1003.000000  990.000000  990.000000   \n",
              "mean                      3.55754    20.433699  173.514141   66.405051   \n",
              "std                       1.09375     2.828840   10.024505   13.839561   \n",
              "min                       1.00000    15.000000   62.000000   41.000000   \n",
              "25%                       3.00000    19.000000  167.000000   55.000000   \n",
              "50%                       4.00000    20.000000  173.000000   64.000000   \n",
              "75%                       4.00000    22.000000  180.000000   75.000000   \n",
              "max                       5.00000    30.000000  203.000000  165.000000   \n",
              "\n",
              "       Number of siblings  \n",
              "count         1004.000000  \n",
              "mean             1.297809  \n",
              "std              1.013348  \n",
              "min              0.000000  \n",
              "25%              1.000000  \n",
              "50%              1.000000  \n",
              "75%              2.000000  \n",
              "max             10.000000  "
            ],
            "text/html": [
              "\n",
              "  <div id=\"df-3f793425-7952-4ea4-8f0c-43845e1d1923\">\n",
              "    <div class=\"colab-df-container\">\n",
              "      <div>\n",
              "<style scoped>\n",
              "    .dataframe tbody tr th:only-of-type {\n",
              "        vertical-align: middle;\n",
              "    }\n",
              "\n",
              "    .dataframe tbody tr th {\n",
              "        vertical-align: top;\n",
              "    }\n",
              "\n",
              "    .dataframe thead th {\n",
              "        text-align: right;\n",
              "    }\n",
              "</style>\n",
              "<table border=\"1\" class=\"dataframe\">\n",
              "  <thead>\n",
              "    <tr style=\"text-align: right;\">\n",
              "      <th></th>\n",
              "      <th>Finances</th>\n",
              "      <th>Shopping centres</th>\n",
              "      <th>Branded clothing</th>\n",
              "      <th>Entertainment spending</th>\n",
              "      <th>Spending on looks</th>\n",
              "      <th>Spending on gadgets</th>\n",
              "      <th>Spending on healthy eating</th>\n",
              "      <th>Age</th>\n",
              "      <th>Height</th>\n",
              "      <th>Weight</th>\n",
              "      <th>Number of siblings</th>\n",
              "    </tr>\n",
              "  </thead>\n",
              "  <tbody>\n",
              "    <tr>\n",
              "      <th>count</th>\n",
              "      <td>1007.000000</td>\n",
              "      <td>1008.000000</td>\n",
              "      <td>1008.000000</td>\n",
              "      <td>1007.000000</td>\n",
              "      <td>1007.000000</td>\n",
              "      <td>1010.000000</td>\n",
              "      <td>1008.00000</td>\n",
              "      <td>1003.000000</td>\n",
              "      <td>990.000000</td>\n",
              "      <td>990.000000</td>\n",
              "      <td>1004.000000</td>\n",
              "    </tr>\n",
              "    <tr>\n",
              "      <th>mean</th>\n",
              "      <td>3.023833</td>\n",
              "      <td>3.234127</td>\n",
              "      <td>3.050595</td>\n",
              "      <td>3.201589</td>\n",
              "      <td>3.106256</td>\n",
              "      <td>2.870297</td>\n",
              "      <td>3.55754</td>\n",
              "      <td>20.433699</td>\n",
              "      <td>173.514141</td>\n",
              "      <td>66.405051</td>\n",
              "      <td>1.297809</td>\n",
              "    </tr>\n",
              "    <tr>\n",
              "      <th>std</th>\n",
              "      <td>1.144365</td>\n",
              "      <td>1.323062</td>\n",
              "      <td>1.306321</td>\n",
              "      <td>1.188947</td>\n",
              "      <td>1.205368</td>\n",
              "      <td>1.284970</td>\n",
              "      <td>1.09375</td>\n",
              "      <td>2.828840</td>\n",
              "      <td>10.024505</td>\n",
              "      <td>13.839561</td>\n",
              "      <td>1.013348</td>\n",
              "    </tr>\n",
              "    <tr>\n",
              "      <th>min</th>\n",
              "      <td>1.000000</td>\n",
              "      <td>1.000000</td>\n",
              "      <td>1.000000</td>\n",
              "      <td>1.000000</td>\n",
              "      <td>1.000000</td>\n",
              "      <td>1.000000</td>\n",
              "      <td>1.00000</td>\n",
              "      <td>15.000000</td>\n",
              "      <td>62.000000</td>\n",
              "      <td>41.000000</td>\n",
              "      <td>0.000000</td>\n",
              "    </tr>\n",
              "    <tr>\n",
              "      <th>25%</th>\n",
              "      <td>2.000000</td>\n",
              "      <td>2.000000</td>\n",
              "      <td>2.000000</td>\n",
              "      <td>2.000000</td>\n",
              "      <td>2.000000</td>\n",
              "      <td>2.000000</td>\n",
              "      <td>3.00000</td>\n",
              "      <td>19.000000</td>\n",
              "      <td>167.000000</td>\n",
              "      <td>55.000000</td>\n",
              "      <td>1.000000</td>\n",
              "    </tr>\n",
              "    <tr>\n",
              "      <th>50%</th>\n",
              "      <td>3.000000</td>\n",
              "      <td>3.000000</td>\n",
              "      <td>3.000000</td>\n",
              "      <td>3.000000</td>\n",
              "      <td>3.000000</td>\n",
              "      <td>3.000000</td>\n",
              "      <td>4.00000</td>\n",
              "      <td>20.000000</td>\n",
              "      <td>173.000000</td>\n",
              "      <td>64.000000</td>\n",
              "      <td>1.000000</td>\n",
              "    </tr>\n",
              "    <tr>\n",
              "      <th>75%</th>\n",
              "      <td>4.000000</td>\n",
              "      <td>4.000000</td>\n",
              "      <td>4.000000</td>\n",
              "      <td>4.000000</td>\n",
              "      <td>4.000000</td>\n",
              "      <td>4.000000</td>\n",
              "      <td>4.00000</td>\n",
              "      <td>22.000000</td>\n",
              "      <td>180.000000</td>\n",
              "      <td>75.000000</td>\n",
              "      <td>2.000000</td>\n",
              "    </tr>\n",
              "    <tr>\n",
              "      <th>max</th>\n",
              "      <td>5.000000</td>\n",
              "      <td>5.000000</td>\n",
              "      <td>5.000000</td>\n",
              "      <td>5.000000</td>\n",
              "      <td>5.000000</td>\n",
              "      <td>5.000000</td>\n",
              "      <td>5.00000</td>\n",
              "      <td>30.000000</td>\n",
              "      <td>203.000000</td>\n",
              "      <td>165.000000</td>\n",
              "      <td>10.000000</td>\n",
              "    </tr>\n",
              "  </tbody>\n",
              "</table>\n",
              "</div>\n",
              "      <button class=\"colab-df-convert\" onclick=\"convertToInteractive('df-3f793425-7952-4ea4-8f0c-43845e1d1923')\"\n",
              "              title=\"Convert this dataframe to an interactive table.\"\n",
              "              style=\"display:none;\">\n",
              "        \n",
              "  <svg xmlns=\"http://www.w3.org/2000/svg\" height=\"24px\"viewBox=\"0 0 24 24\"\n",
              "       width=\"24px\">\n",
              "    <path d=\"M0 0h24v24H0V0z\" fill=\"none\"/>\n",
              "    <path d=\"M18.56 5.44l.94 2.06.94-2.06 2.06-.94-2.06-.94-.94-2.06-.94 2.06-2.06.94zm-11 1L8.5 8.5l.94-2.06 2.06-.94-2.06-.94L8.5 2.5l-.94 2.06-2.06.94zm10 10l.94 2.06.94-2.06 2.06-.94-2.06-.94-.94-2.06-.94 2.06-2.06.94z\"/><path d=\"M17.41 7.96l-1.37-1.37c-.4-.4-.92-.59-1.43-.59-.52 0-1.04.2-1.43.59L10.3 9.45l-7.72 7.72c-.78.78-.78 2.05 0 2.83L4 21.41c.39.39.9.59 1.41.59.51 0 1.02-.2 1.41-.59l7.78-7.78 2.81-2.81c.8-.78.8-2.07 0-2.86zM5.41 20L4 18.59l7.72-7.72 1.47 1.35L5.41 20z\"/>\n",
              "  </svg>\n",
              "      </button>\n",
              "      \n",
              "  <style>\n",
              "    .colab-df-container {\n",
              "      display:flex;\n",
              "      flex-wrap:wrap;\n",
              "      gap: 12px;\n",
              "    }\n",
              "\n",
              "    .colab-df-convert {\n",
              "      background-color: #E8F0FE;\n",
              "      border: none;\n",
              "      border-radius: 50%;\n",
              "      cursor: pointer;\n",
              "      display: none;\n",
              "      fill: #1967D2;\n",
              "      height: 32px;\n",
              "      padding: 0 0 0 0;\n",
              "      width: 32px;\n",
              "    }\n",
              "\n",
              "    .colab-df-convert:hover {\n",
              "      background-color: #E2EBFA;\n",
              "      box-shadow: 0px 1px 2px rgba(60, 64, 67, 0.3), 0px 1px 3px 1px rgba(60, 64, 67, 0.15);\n",
              "      fill: #174EA6;\n",
              "    }\n",
              "\n",
              "    [theme=dark] .colab-df-convert {\n",
              "      background-color: #3B4455;\n",
              "      fill: #D2E3FC;\n",
              "    }\n",
              "\n",
              "    [theme=dark] .colab-df-convert:hover {\n",
              "      background-color: #434B5C;\n",
              "      box-shadow: 0px 1px 3px 1px rgba(0, 0, 0, 0.15);\n",
              "      filter: drop-shadow(0px 1px 2px rgba(0, 0, 0, 0.3));\n",
              "      fill: #FFFFFF;\n",
              "    }\n",
              "  </style>\n",
              "\n",
              "      <script>\n",
              "        const buttonEl =\n",
              "          document.querySelector('#df-3f793425-7952-4ea4-8f0c-43845e1d1923 button.colab-df-convert');\n",
              "        buttonEl.style.display =\n",
              "          google.colab.kernel.accessAllowed ? 'block' : 'none';\n",
              "\n",
              "        async function convertToInteractive(key) {\n",
              "          const element = document.querySelector('#df-3f793425-7952-4ea4-8f0c-43845e1d1923');\n",
              "          const dataTable =\n",
              "            await google.colab.kernel.invokeFunction('convertToInteractive',\n",
              "                                                     [key], {});\n",
              "          if (!dataTable) return;\n",
              "\n",
              "          const docLinkHtml = 'Like what you see? Visit the ' +\n",
              "            '<a target=\"_blank\" href=https://colab.research.google.com/notebooks/data_table.ipynb>data table notebook</a>'\n",
              "            + ' to learn more about interactive tables.';\n",
              "          element.innerHTML = '';\n",
              "          dataTable['output_type'] = 'display_data';\n",
              "          await google.colab.output.renderOutput(dataTable, element);\n",
              "          const docLink = document.createElement('div');\n",
              "          docLink.innerHTML = docLinkHtml;\n",
              "          element.appendChild(docLink);\n",
              "        }\n",
              "      </script>\n",
              "    </div>\n",
              "  </div>\n",
              "  "
            ]
          },
          "metadata": {},
          "execution_count": 39
        }
      ]
    },
    {
      "cell_type": "code",
      "source": [
        "#returns description of the categorical variables in the DataFrame.\n",
        "df.describe(include=\"object\")"
      ],
      "metadata": {
        "colab": {
          "base_uri": "https://localhost:8080/",
          "height": 175
        },
        "id": "hcYNu5-wV1nA",
        "outputId": "2a015990-e3aa-4baa-a449-b0e0d4d9f90b"
      },
      "execution_count": 40,
      "outputs": [
        {
          "output_type": "execute_result",
          "data": {
            "text/plain": [
              "              Smoking         Alcohol  Gender Left - right handed  \\\n",
              "count            1002            1005    1004                1007   \n",
              "unique              4               3       2                   2   \n",
              "top     tried smoking  social drinker  female        right handed   \n",
              "freq              430             659     593                 906   \n",
              "\n",
              "               Education Only child Village - town House - block of flats  \n",
              "count               1009       1008           1006                   1006  \n",
              "unique                 6          2              2                      2  \n",
              "top     secondary school         no           city         block of flats  \n",
              "freq                 621        754            707                    595  "
            ],
            "text/html": [
              "\n",
              "  <div id=\"df-4e7cde9e-956c-4f15-91a8-0189d0c9559a\">\n",
              "    <div class=\"colab-df-container\">\n",
              "      <div>\n",
              "<style scoped>\n",
              "    .dataframe tbody tr th:only-of-type {\n",
              "        vertical-align: middle;\n",
              "    }\n",
              "\n",
              "    .dataframe tbody tr th {\n",
              "        vertical-align: top;\n",
              "    }\n",
              "\n",
              "    .dataframe thead th {\n",
              "        text-align: right;\n",
              "    }\n",
              "</style>\n",
              "<table border=\"1\" class=\"dataframe\">\n",
              "  <thead>\n",
              "    <tr style=\"text-align: right;\">\n",
              "      <th></th>\n",
              "      <th>Smoking</th>\n",
              "      <th>Alcohol</th>\n",
              "      <th>Gender</th>\n",
              "      <th>Left - right handed</th>\n",
              "      <th>Education</th>\n",
              "      <th>Only child</th>\n",
              "      <th>Village - town</th>\n",
              "      <th>House - block of flats</th>\n",
              "    </tr>\n",
              "  </thead>\n",
              "  <tbody>\n",
              "    <tr>\n",
              "      <th>count</th>\n",
              "      <td>1002</td>\n",
              "      <td>1005</td>\n",
              "      <td>1004</td>\n",
              "      <td>1007</td>\n",
              "      <td>1009</td>\n",
              "      <td>1008</td>\n",
              "      <td>1006</td>\n",
              "      <td>1006</td>\n",
              "    </tr>\n",
              "    <tr>\n",
              "      <th>unique</th>\n",
              "      <td>4</td>\n",
              "      <td>3</td>\n",
              "      <td>2</td>\n",
              "      <td>2</td>\n",
              "      <td>6</td>\n",
              "      <td>2</td>\n",
              "      <td>2</td>\n",
              "      <td>2</td>\n",
              "    </tr>\n",
              "    <tr>\n",
              "      <th>top</th>\n",
              "      <td>tried smoking</td>\n",
              "      <td>social drinker</td>\n",
              "      <td>female</td>\n",
              "      <td>right handed</td>\n",
              "      <td>secondary school</td>\n",
              "      <td>no</td>\n",
              "      <td>city</td>\n",
              "      <td>block of flats</td>\n",
              "    </tr>\n",
              "    <tr>\n",
              "      <th>freq</th>\n",
              "      <td>430</td>\n",
              "      <td>659</td>\n",
              "      <td>593</td>\n",
              "      <td>906</td>\n",
              "      <td>621</td>\n",
              "      <td>754</td>\n",
              "      <td>707</td>\n",
              "      <td>595</td>\n",
              "    </tr>\n",
              "  </tbody>\n",
              "</table>\n",
              "</div>\n",
              "      <button class=\"colab-df-convert\" onclick=\"convertToInteractive('df-4e7cde9e-956c-4f15-91a8-0189d0c9559a')\"\n",
              "              title=\"Convert this dataframe to an interactive table.\"\n",
              "              style=\"display:none;\">\n",
              "        \n",
              "  <svg xmlns=\"http://www.w3.org/2000/svg\" height=\"24px\"viewBox=\"0 0 24 24\"\n",
              "       width=\"24px\">\n",
              "    <path d=\"M0 0h24v24H0V0z\" fill=\"none\"/>\n",
              "    <path d=\"M18.56 5.44l.94 2.06.94-2.06 2.06-.94-2.06-.94-.94-2.06-.94 2.06-2.06.94zm-11 1L8.5 8.5l.94-2.06 2.06-.94-2.06-.94L8.5 2.5l-.94 2.06-2.06.94zm10 10l.94 2.06.94-2.06 2.06-.94-2.06-.94-.94-2.06-.94 2.06-2.06.94z\"/><path d=\"M17.41 7.96l-1.37-1.37c-.4-.4-.92-.59-1.43-.59-.52 0-1.04.2-1.43.59L10.3 9.45l-7.72 7.72c-.78.78-.78 2.05 0 2.83L4 21.41c.39.39.9.59 1.41.59.51 0 1.02-.2 1.41-.59l7.78-7.78 2.81-2.81c.8-.78.8-2.07 0-2.86zM5.41 20L4 18.59l7.72-7.72 1.47 1.35L5.41 20z\"/>\n",
              "  </svg>\n",
              "      </button>\n",
              "      \n",
              "  <style>\n",
              "    .colab-df-container {\n",
              "      display:flex;\n",
              "      flex-wrap:wrap;\n",
              "      gap: 12px;\n",
              "    }\n",
              "\n",
              "    .colab-df-convert {\n",
              "      background-color: #E8F0FE;\n",
              "      border: none;\n",
              "      border-radius: 50%;\n",
              "      cursor: pointer;\n",
              "      display: none;\n",
              "      fill: #1967D2;\n",
              "      height: 32px;\n",
              "      padding: 0 0 0 0;\n",
              "      width: 32px;\n",
              "    }\n",
              "\n",
              "    .colab-df-convert:hover {\n",
              "      background-color: #E2EBFA;\n",
              "      box-shadow: 0px 1px 2px rgba(60, 64, 67, 0.3), 0px 1px 3px 1px rgba(60, 64, 67, 0.15);\n",
              "      fill: #174EA6;\n",
              "    }\n",
              "\n",
              "    [theme=dark] .colab-df-convert {\n",
              "      background-color: #3B4455;\n",
              "      fill: #D2E3FC;\n",
              "    }\n",
              "\n",
              "    [theme=dark] .colab-df-convert:hover {\n",
              "      background-color: #434B5C;\n",
              "      box-shadow: 0px 1px 3px 1px rgba(0, 0, 0, 0.15);\n",
              "      filter: drop-shadow(0px 1px 2px rgba(0, 0, 0, 0.3));\n",
              "      fill: #FFFFFF;\n",
              "    }\n",
              "  </style>\n",
              "\n",
              "      <script>\n",
              "        const buttonEl =\n",
              "          document.querySelector('#df-4e7cde9e-956c-4f15-91a8-0189d0c9559a button.colab-df-convert');\n",
              "        buttonEl.style.display =\n",
              "          google.colab.kernel.accessAllowed ? 'block' : 'none';\n",
              "\n",
              "        async function convertToInteractive(key) {\n",
              "          const element = document.querySelector('#df-4e7cde9e-956c-4f15-91a8-0189d0c9559a');\n",
              "          const dataTable =\n",
              "            await google.colab.kernel.invokeFunction('convertToInteractive',\n",
              "                                                     [key], {});\n",
              "          if (!dataTable) return;\n",
              "\n",
              "          const docLinkHtml = 'Like what you see? Visit the ' +\n",
              "            '<a target=\"_blank\" href=https://colab.research.google.com/notebooks/data_table.ipynb>data table notebook</a>'\n",
              "            + ' to learn more about interactive tables.';\n",
              "          element.innerHTML = '';\n",
              "          dataTable['output_type'] = 'display_data';\n",
              "          await google.colab.output.renderOutput(dataTable, element);\n",
              "          const docLink = document.createElement('div');\n",
              "          docLink.innerHTML = docLinkHtml;\n",
              "          element.appendChild(docLink);\n",
              "        }\n",
              "      </script>\n",
              "    </div>\n",
              "  </div>\n",
              "  "
            ]
          },
          "metadata": {},
          "execution_count": 40
        }
      ]
    },
    {
      "cell_type": "markdown",
      "source": [
        "### Graphics\n",
        "\n",
        "A statistical graph is a tool that helps you learn about the shape or distribution of a sample or a population. A graph can be a more effective way of presenting data than a mass of numbers because we can see where data clusters and where there are only a few data values. \n",
        "\n",
        "Some of the types of graphs that are used to summarize and organize data are , the bar graph, the histogram, the pie chart, and the box plot. "
      ],
      "metadata": {
        "id": "R_Lo6CuNUACI"
      }
    },
    {
      "cell_type": "markdown",
      "source": [
        "#### Quantitative Varible : **Age**"
      ],
      "metadata": {
        "id": "7HbOxhrKiLFf"
      }
    },
    {
      "cell_type": "markdown",
      "source": [
        "##### Histogram"
      ],
      "metadata": {
        "id": "F8Zox1VrRjaa"
      }
    },
    {
      "cell_type": "code",
      "source": [
        "# Compute and plot a histogram using matplotlib libray.\n",
        "plt.figure(figsize=(8,6))\n",
        "plt.title('Histogram of Age')\n",
        "plt.xlabel('age')\n",
        "plt.ylabel('frecuency')\n",
        "plt.hist(df_quantitative,bins=15,color='orange',)\n",
        "plt.axvline(mean_age, color='k', linestyle='dashed', linewidth=2)\n",
        "plt.axvline(median_age, color='green', linestyle='dashed', linewidth=2)\n",
        "\n"
      ],
      "metadata": {
        "colab": {
          "base_uri": "https://localhost:8080/",
          "height": 421
        },
        "id": "ahsleDRfgSnP",
        "outputId": "f2e059c4-03ed-48f4-c564-3fbbd266381b"
      },
      "execution_count": 42,
      "outputs": [
        {
          "output_type": "execute_result",
          "data": {
            "text/plain": [
              "<matplotlib.lines.Line2D at 0x7f136a951fd0>"
            ]
          },
          "metadata": {},
          "execution_count": 42
        },
        {
          "output_type": "display_data",
          "data": {
            "text/plain": [
              "<Figure size 576x432 with 1 Axes>"
            ],
            "image/png": "[encoded data removed]"
          },
          "metadata": {
            "needs_background": "light"
          }
        }
      ]
    },
    {
      "cell_type": "code",
      "source": [
        "# Compute and plot a histogram using seaborn libray.\n",
        "plt.figure(figsize=(8,6))\n",
        "sns.histplot(data=df, x=df_quantitative, kde=True,bins=15,color=\"orange\").set_title(\"Histogram of Age\")"
      ],
      "metadata": {
        "colab": {
          "base_uri": "https://localhost:8080/",
          "height": 422
        },
        "id": "aIhCHynt-Pvg",
        "outputId": "00dce246-c629-4230-b7b5-00c074c720e6"
      },
      "execution_count": null,
      "outputs": [
        {
          "output_type": "execute_result",
          "data": {
            "text/plain": [
              "Text(0.5, 1.0, 'Histogram of Age')"
            ]
          },
          "metadata": {},
          "execution_count": 26
        },
        {
          "output_type": "display_data",
          "data": {
            "text/plain": [
              "<Figure size 576x432 with 1 Axes>"
            ],
            "image/png": "[encoded data removed]"
          },
          "metadata": {
            "needs_background": "light"
          }
        }
      ]
    },
    {
      "cell_type": "markdown",
      "source": [
        "We use the matplotlib and seaborn libraries to build the histogram of the variable \"Age\" as we can see in the first graph, the median (green line) is less than the mean (black line); with this, we can say that it does not follow a uniform distribution; however, the difference is not that noticeable.\n",
        "It has a unimodal distribution with a positive right skewed.\n",
        "With the second graph, we can observe the curve on the histogram, which helps us better understand the data dispersion, where most of them are concentrated in the centre of the graph, having thinner tails.\n"
      ],
      "metadata": {
        "id": "jxeE4wZnUZkB"
      }
    },
    {
      "cell_type": "markdown",
      "source": [
        "##### Boxplot"
      ],
      "metadata": {
        "id": "MY4D5gW3RoO-"
      }
    },
    {
      "cell_type": "code",
      "source": [
        "# Draw a box plot to show distributions using seaborn libray. \n",
        "plt.figure(figsize=(8,6))\n",
        "sns.boxplot(x=df_quantitative,color=\"orange\").set_title(\"Boxplot of Age\")"
      ],
      "metadata": {
        "colab": {
          "base_uri": "https://localhost:8080/",
          "height": 422
        },
        "id": "UC3ivEMwUQgY",
        "outputId": "9138e027-70f2-4ebd-f198-f65f60050160"
      },
      "execution_count": null,
      "outputs": [
        {
          "output_type": "execute_result",
          "data": {
            "text/plain": [
              "Text(0.5, 1.0, 'Boxplot of Age')"
            ]
          },
          "metadata": {},
          "execution_count": 27
        },
        {
          "output_type": "display_data",
          "data": {
            "text/plain": [
              "<Figure size 576x432 with 1 Axes>"
            ],
            "image/png": "[encoded data removed]"
          },
          "metadata": {
            "needs_background": "light"
          }
        }
      ]
    },
    {
      "cell_type": "markdown",
      "source": [
        "We use the seaborn library to build the boxplot for the age variable, as we can see we have an upper outlier; It is also another way to see the distribution of the data; we can see that the median Q2 is closer to Q1, this means that it does not follow a normal distribution instead the data have a positive skewed. The range is [19, 22], suggesting that most respondents are between 19 and 22 years old.\n"
      ],
      "metadata": {
        "id": "Vk6ionqxUfmU"
      }
    },
    {
      "cell_type": "markdown",
      "source": [
        "#### Qualitative Varible : **Education Level**\n",
        "\n",
        "Taking into account the different graphic visualization tools, we can consider some for a better understanding of our results, being quite useful even for people who are unaware of the subject. In this case, there are graphs for the graphic representation of our data with category variables in which we have: Frequency Table, pie graphs, and bar graphs."
      ],
      "metadata": {
        "id": "P09J6bqZUt91"
      }
    },
    {
      "cell_type": "markdown",
      "source": [
        "##### Bar-chart"
      ],
      "metadata": {
        "id": "C1hZ9G_WR2Nd"
      }
    },
    {
      "cell_type": "code",
      "source": [
        "# Draw a bar chart to show the frequencie using seaborn libray. \n",
        "plt.figure(figsize=(8,6))\n",
        "sns.countplot(y='Education', data=df,color=\"orange\" )  "
      ],
      "metadata": {
        "colab": {
          "base_uri": "https://localhost:8080/",
          "height": 406
        },
        "id": "RanR-7NJGJss",
        "outputId": "536eb287-b3b9-44bb-dfad-104119cc6c10"
      },
      "execution_count": null,
      "outputs": [
        {
          "output_type": "execute_result",
          "data": {
            "text/plain": [
              "<matplotlib.axes._subplots.AxesSubplot at 0x7f7896891f40>"
            ]
          },
          "metadata": {},
          "execution_count": 29
        },
        {
          "output_type": "display_data",
          "data": {
            "text/plain": [
              "<Figure size 576x432 with 1 Axes>"
            ],
            "image/png": "[encoded data removed]"
          },
          "metadata": {
            "needs_background": "light"
          }
        }
      ]
    },
    {
      "cell_type": "markdown",
      "source": [
        "In the previous bar charts, the categorical variable \"Education\" is observed, this gives us the most frequent o repeated values in our column, which means that the majority of people in the database come from \"Secondary\" and in second place the category \"College/bachelor degree\" , are the most repeated values in the variable.\n",
        "\n",
        " "
      ],
      "metadata": {
        "id": "J0LKUVPTD2T0"
      }
    },
    {
      "cell_type": "markdown",
      "source": [
        "## Outliers\n",
        "\n",
        "An outlier is a data point in a data set that is distant from all other observations. A data point that lies outside the overall distribution of the dataset.\n",
        "\n",
        "\n",
        "> \"*An outlier is any value that is very distant from the other values in a data set.*\" (Bruce, Bruce and Gedeck, 2020)\n",
        "\n",
        "\n"
      ],
      "metadata": {
        "id": "AR_bj_zTscD4"
      }
    },
    {
      "cell_type": "code",
      "source": [
        "# print the Min value in the column age.\n",
        "print(\"The min of column 'Age' is :\")\n",
        "min_age = df_quantitative.min()\n",
        "print(min_age)"
      ],
      "metadata": {
        "colab": {
          "base_uri": "https://localhost:8080/"
        },
        "id": "eoy-eISFQPYG",
        "outputId": "3f2484d8-d06d-4064-dc1a-62adf2eeebdb"
      },
      "execution_count": null,
      "outputs": [
        {
          "output_type": "stream",
          "name": "stdout",
          "text": [
            "The min of column 'Age' is :\n",
            "15.0\n"
          ]
        }
      ]
    },
    {
      "cell_type": "code",
      "source": [
        "# print the Max value in the column age.\n",
        "print(\"The max of column 'Age' is :\")\n",
        "max_age = df_quantitative.max()\n",
        "print(max_age)"
      ],
      "metadata": {
        "colab": {
          "base_uri": "https://localhost:8080/"
        },
        "id": "AQxTMWvZRwTm",
        "outputId": "89b1f778-596f-45c4-b673-3041c53b0e03"
      },
      "execution_count": null,
      "outputs": [
        {
          "output_type": "stream",
          "name": "stdout",
          "text": [
            "The max of column 'Age' is :\n",
            "30.0\n"
          ]
        }
      ]
    },
    {
      "cell_type": "markdown",
      "source": [
        "According to the boxplot that we analysed previously and with the results of the maximum and minimum values and the IQR, we can conclude that our \"age\" variable contains upper outliers"
      ],
      "metadata": {
        "id": "eUdcqbXxwAl5"
      }
    },
    {
      "cell_type": "markdown",
      "source": [
        "## Missing Values\n",
        "\n",
        "\n",
        "\n",
        "> \"*Missing data are not rare in real data sets. In fact, the chance that at least one data point is missing increases as the data set size increases.*\" (Kuhn and Johnson, 2019,p.189)\n",
        "\n"
      ],
      "metadata": {
        "id": "_gebsa9ZsW1S"
      }
    },
    {
      "cell_type": "code",
      "source": [
        "print(\"The total of the missing values in the column 'Age' are :\")\n",
        "mv_age=df_quantitative.isnull().sum()\n",
        "print(mv_age)"
      ],
      "metadata": {
        "colab": {
          "base_uri": "https://localhost:8080/"
        },
        "id": "oumx33VB0aQ5",
        "outputId": "70fcc97b-5424-45f0-c712-9823e5113d19"
      },
      "execution_count": null,
      "outputs": [
        {
          "output_type": "stream",
          "name": "stdout",
          "text": [
            "The total of the missing values in the column 'Age' are :\n",
            "7\n"
          ]
        }
      ]
    },
    {
      "cell_type": "code",
      "source": [
        "print(\"The total of the missing values in the column 'Education Level' are :\")\n",
        "mv_education=df_qualitative.isnull().sum()\n",
        "print(mv_education)"
      ],
      "metadata": {
        "colab": {
          "base_uri": "https://localhost:8080/"
        },
        "id": "m7Creh-R1343",
        "outputId": "047b25d8-27c2-4d8d-ea6a-15d012d6c019"
      },
      "execution_count": null,
      "outputs": [
        {
          "output_type": "stream",
          "name": "stdout",
          "text": [
            "The total of the missing values in the column 'Education Level' are :\n",
            "1\n"
          ]
        }
      ]
    },
    {
      "cell_type": "markdown",
      "source": [
        "With the results obtained, we can see that both variables contain missing values, but due to the total amount of values that we have, the lack of these is insignificant because they are less than 1% of the total."
      ],
      "metadata": {
        "id": "IfO0F3-FwDap"
      }
    },
    {
      "cell_type": "markdown",
      "source": [
        "# Second section: Hypothesis testing\n",
        "\n",
        "Hypothesis testing is a statistical method that is used in making statistical decisions using experimental data. Hypothesis Testing is basically an assumption that we make about the population parameter.(Agrawal, 2019)\n",
        "\n",
        "\n",
        " <center>\n",
        "\n",
        "<img src=https://sonalake.com/img/hypothesis-testing.png width=500>\n",
        "\n",
        " </center>\n",
        "\n",
        "Parametric Tests assume a normal distribution in the data. The following table describes some of the most popular parametric tests and what they measure.(Duca, 2021)\n",
        "\n",
        "<center>\n",
        "\n",
        "<img src=https://miro.medium.com/max/786/0*rn4ekgAiHvy4IprV.webp width=500>\n",
        "\n",
        " </center>\n",
        "\n",
        "\n",
        "\n",
        "\n",
        "\n",
        "\n",
        "\n",
        "\n",
        "\n"
      ],
      "metadata": {
        "id": "JNPBxxX8Vter"
      }
    },
    {
      "cell_type": "markdown",
      "source": [
        "\n",
        "> \"*A growing percentage of millennials have absolutely nothing saved*\" (Elkins, 2018)\n",
        "\n",
        "\n",
        "\n",
        "For this project, we will run a chi-square test because the two variables we want to analyse are categorical. That is why we chose the variable **Finances** to perform the Hypothesis.\n",
        "\n",
        "\n",
        "\n",
        "**Scenario**\n",
        "\n",
        "According to a survey carried out by GBR, The are expecting that of the 1007 surveyed , a section that will reflect 35% of young people have no savings at all, the second section of 20% will have no savings, another third  section of 19 % is considering saving, another fourth section of 16% agrees to save and the last section of 10% is thinking strongly about saving.\n",
        "\n",
        "**Hipothesis**\n",
        "\n",
        "\n",
        "Categorizing this variable in values from 1 to 5 in which five means that people strongly agree to save their money.\n",
        "\n",
        "1 Strongly disagree    \n",
        "2 Disagree     \n",
        "3 Neutral      \n",
        "4 Agree     \n",
        "5 Strongly agree\n",
        "\n",
        "H0: X^2 = 0              \n",
        "H1: X^2 > 0\n",
        "\n",
        "\n",
        "\n",
        "According to the observed data base between 15 to 30 years old it says that 358 are neutral to save, 252 agree to save, 174 disagree to save, 125 strongly disagree to save and 98 strongly agree to save.\n",
        "\n",
        "1 : 125         \n",
        "2 : 174        \n",
        "3 : 358          \n",
        "4 : 252         \n",
        "5 : 98\n",
        "\n",
        " A 2017 **GoBankingRates** survey found that most “young millennials” — had less than $1,000 in their savings accounts. Nearly half had nothing saved at all."
      ],
      "metadata": {
        "id": "b-9g40jeDBfv"
      }
    },
    {
      "cell_type": "code",
      "source": [
        "print(\"              : Groups:| 1  |  2  |  3  |  4  | 5  |\")\n",
        "print(\"                                                    \")\n",
        "print(\"Observed Data         |358 | 252 | 174 | 125 | 98 |\")\n",
        "print(\"Expected Data         |353 | 201 | 191 | 161 | 101|                            \")\n"
      ],
      "metadata": {
        "id": "1DJy4tEtVwcS",
        "colab": {
          "base_uri": "https://localhost:8080/"
        },
        "outputId": "c054232b-4b99-465b-b450-9bae2bc694f9"
      },
      "execution_count": null,
      "outputs": [
        {
          "output_type": "stream",
          "name": "stdout",
          "text": [
            "              : Groups:| 1  |  2  |  3  |  4  | 5  |\n",
            "                                                    \n",
            "Observed Data         |358 | 252 | 174 | 125 | 98 |\n",
            "Expected Data         |353 | 201 | 191 | 161 | 101|                            \n"
          ]
        }
      ]
    },
    {
      "cell_type": "markdown",
      "source": [
        "\n",
        "In order to calculate our values we use a series of codes that we find in the following link.\n",
        "\n",
        "[Chi-square code](https://analyticsindiamag.com/a-beginners-guide-to-chi-square-test-in-python-from-scratch/)\n",
        "\n"
      ],
      "metadata": {
        "id": "7GA1s7gcwdGd"
      }
    },
    {
      "cell_type": "code",
      "source": [
        "from scipy.stats import chisquare\n",
        "chisquare([358, 252, 174, 125, 98], f_exp=[353, 201, 191, 161, 101]) # agregar referencia"
      ],
      "metadata": {
        "colab": {
          "base_uri": "https://localhost:8080/"
        },
        "id": "puR0nuKIsghy",
        "outputId": "57066b33-f88e-4c7e-b1a3-b1591da89516"
      },
      "execution_count": null,
      "outputs": [
        {
          "output_type": "execute_result",
          "data": {
            "text/plain": [
              "Power_divergenceResult(statistic=22.663007394328208, pvalue=0.00014784495523625406)"
            ]
          },
          "metadata": {},
          "execution_count": 35
        }
      ]
    },
    {
      "cell_type": "code",
      "source": [
        "\n",
        "# chi-squared test with similar proportions\n",
        "from scipy.stats import chi2_contingency\n",
        "from scipy.stats import chi2\n",
        "\n",
        "# contingency table\n",
        "table = [ [358, 252, 174, 125, 98],\n",
        " [353, 201, 191, 161, 101]]\n",
        "#print(table)\n",
        "stat, p, dof, expected = chi2_contingency(table)\n",
        "print('Degrees of Freedon=%d' % dof)\n",
        "#print(expected)\n",
        "\n",
        "# interpret test-statistic\n",
        "prob = 0.95\n",
        "critical = chi2.ppf(prob, dof)\n",
        "print('Confidente Interval=%.3f, Critical value is =%.3f,  stat=%.3f' %(prob, critical, stat)) ##agregar referencia\n",
        "#https://machinelearningmastery.com/chi-squared-test-for-machine-learning/ \n",
        "if abs(stat) >= critical:\n",
        " print('Dependent (reject H0)')\n",
        "else:\n",
        " print('Independent (fail to reject H0)')\n",
        " \n",
        "# interpret p-value\n",
        "alpha = 1.0 - prob\n",
        "print('significance=%.3f, p=%.3f' % (alpha, p))\n",
        "#print(chisquare([358, 252, 174, 125, 98], f_exp=[353, 201, 191, 161, 101]))\n",
        "if p <= alpha:\n",
        " print('Dependent (reject H0)')\n",
        "else:\n",
        " print('Independent ( Accept H1)')"
      ],
      "metadata": {
        "colab": {
          "base_uri": "https://localhost:8080/"
        },
        "id": "g_IZk6HoUcJl",
        "outputId": "b8fa9187-8607-43db-f320-a147c8d16704"
      },
      "execution_count": null,
      "outputs": [
        {
          "output_type": "stream",
          "name": "stdout",
          "text": [
            "Degrees of Freedon=4\n",
            "Confidente Interval=0.950, Critical value is =9.488,  stat=11.145\n",
            "Dependent (reject H0)\n",
            "significance=0.050, p=0.025\n",
            "Dependent (reject H0)\n"
          ]
        }
      ]
    },
    {
      "cell_type": "markdown",
      "source": [
        "\n",
        "H0: X² = 0              \n",
        "H1: X² > 0\n",
        "\n",
        "X²= 22.63\n",
        "\n",
        "At the 5% level, the critical value is 9.488 < X²\n",
        "\n",
        "At the 1% level, the critical value is 13.277 < X²\n",
        "\n",
        "At the 5% and 1% level we have enough evidence to reject the null\n",
        "hypothesis\n",
        "\n",
        "**conclusion**\n",
        "\n",
        "With a 95% confidence level, we have enough evidence to reject our null hypothesis. this means that Young people are not considering saving as a priority in their lives.\n",
        "\n",
        "\n"
      ],
      "metadata": {
        "id": "piVAVMsdiudE"
      }
    },
    {
      "cell_type": "markdown",
      "source": [
        "# Third section: Correlation Analysis & Linear Regression\n"
      ],
      "metadata": {
        "id": "qqTAPgOmVwpE"
      }
    },
    {
      "cell_type": "markdown",
      "source": [
        "## Correlation Analysis\n",
        "\n",
        "Correlation analysis consists of a statistical procedure to determine whether or not two variables are related. The result of the study is a correlation coefficient that can take values between -1 and +1. The sign indicates the type of correlation between the two variables. A positive sign indicates a positive relationship between the two variables; that is, when the magnitude of one increases, the other also. A negative sign indicates a negative relationship between the two variables. While the values of one increase, those of the second variable decrease. If two variables are independent, the correlation coefficient is of magnitude zero.\n",
        "\n",
        "\n",
        " <center>\n",
        "\n",
        "<img src=https://www.researchgate.net/profile/Fauziah-Sh/publication/339336406/figure/tbl1/AS:859939484495872@1582036958246/Correlation-Coefficient-and-Strength-of.png width=500>\n",
        "\n",
        " </center>"
      ],
      "metadata": {
        "id": "f7dd589qpJnB"
      }
    },
    {
      "cell_type": "code",
      "source": [
        "df.corr()"
      ],
      "metadata": {
        "colab": {
          "base_uri": "https://localhost:8080/",
          "height": 594
        },
        "id": "DBCUa_w_2CX0",
        "outputId": "e2c410e8-e50f-40bd-f9a6-7b1740d380c9"
      },
      "execution_count": null,
      "outputs": [
        {
          "output_type": "execute_result",
          "data": {
            "text/plain": [
              "                            Finances  Shopping centres  Branded clothing  \\\n",
              "Finances                    1.000000         -0.058205         -0.129453   \n",
              "Shopping centres           -0.058205          1.000000          0.361467   \n",
              "Branded clothing           -0.129453          0.361467          1.000000   \n",
              "Entertainment spending     -0.298440          0.132065          0.338824   \n",
              "Spending on looks          -0.206509          0.488448          0.416878   \n",
              "Spending on gadgets        -0.097290          0.155511          0.352667   \n",
              "Spending on healthy eating  0.008438          0.104950          0.173423   \n",
              "Age                         0.030484         -0.133868         -0.066279   \n",
              "Height                     -0.094509         -0.132933          0.147891   \n",
              "Weight                     -0.089587         -0.151738          0.104435   \n",
              "Number of siblings         -0.039973         -0.064048         -0.039901   \n",
              "\n",
              "                            Entertainment spending  Spending on looks  \\\n",
              "Finances                                 -0.298440          -0.206509   \n",
              "Shopping centres                          0.132065           0.488448   \n",
              "Branded clothing                          0.338824           0.416878   \n",
              "Entertainment spending                    1.000000           0.403655   \n",
              "Spending on looks                         0.403655           1.000000   \n",
              "Spending on gadgets                       0.336616           0.334428   \n",
              "Spending on healthy eating                0.144024           0.235610   \n",
              "Age                                      -0.030833          -0.072659   \n",
              "Height                                    0.166344          -0.093688   \n",
              "Weight                                    0.142019          -0.087897   \n",
              "Number of siblings                        0.031915          -0.041896   \n",
              "\n",
              "                            Spending on gadgets  Spending on healthy eating  \\\n",
              "Finances                              -0.097290                    0.008438   \n",
              "Shopping centres                       0.155511                    0.104950   \n",
              "Branded clothing                       0.352667                    0.173423   \n",
              "Entertainment spending                 0.336616                    0.144024   \n",
              "Spending on looks                      0.334428                    0.235610   \n",
              "Spending on gadgets                    1.000000                    0.235251   \n",
              "Spending on healthy eating             0.235251                    1.000000   \n",
              "Age                                   -0.010787                    0.013850   \n",
              "Height                                 0.227769                    0.010254   \n",
              "Weight                                 0.244183                    0.027052   \n",
              "Number of siblings                    -0.025413                   -0.082345   \n",
              "\n",
              "                                 Age    Height    Weight  Number of siblings  \n",
              "Finances                    0.030484 -0.094509 -0.089587           -0.039973  \n",
              "Shopping centres           -0.133868 -0.132933 -0.151738           -0.064048  \n",
              "Branded clothing           -0.066279  0.147891  0.104435           -0.039901  \n",
              "Entertainment spending     -0.030833  0.166344  0.142019            0.031915  \n",
              "Spending on looks          -0.072659 -0.093688 -0.087897           -0.041896  \n",
              "Spending on gadgets        -0.010787  0.227769  0.244183           -0.025413  \n",
              "Spending on healthy eating  0.013850  0.010254  0.027052           -0.082345  \n",
              "Age                         1.000000  0.114841  0.237722            0.090374  \n",
              "Height                      0.114841  1.000000  0.697696           -0.013849  \n",
              "Weight                      0.237722  0.697696  1.000000           -0.026896  \n",
              "Number of siblings          0.090374 -0.013849 -0.026896            1.000000  "
            ],
            "text/html": [
              "\n",
              "  <div id=\"df-ef09b6cf-d94c-445d-8278-0e15e1b2666e\">\n",
              "    <div class=\"colab-df-container\">\n",
              "      <div>\n",
              "<style scoped>\n",
              "    .dataframe tbody tr th:only-of-type {\n",
              "        vertical-align: middle;\n",
              "    }\n",
              "\n",
              "    .dataframe tbody tr th {\n",
              "        vertical-align: top;\n",
              "    }\n",
              "\n",
              "    .dataframe thead th {\n",
              "        text-align: right;\n",
              "    }\n",
              "</style>\n",
              "<table border=\"1\" class=\"dataframe\">\n",
              "  <thead>\n",
              "    <tr style=\"text-align: right;\">\n",
              "      <th></th>\n",
              "      <th>Finances</th>\n",
              "      <th>Shopping centres</th>\n",
              "      <th>Branded clothing</th>\n",
              "      <th>Entertainment spending</th>\n",
              "      <th>Spending on looks</th>\n",
              "      <th>Spending on gadgets</th>\n",
              "      <th>Spending on healthy eating</th>\n",
              "      <th>Age</th>\n",
              "      <th>Height</th>\n",
              "      <th>Weight</th>\n",
              "      <th>Number of siblings</th>\n",
              "    </tr>\n",
              "  </thead>\n",
              "  <tbody>\n",
              "    <tr>\n",
              "      <th>Finances</th>\n",
              "      <td>1.000000</td>\n",
              "      <td>-0.058205</td>\n",
              "      <td>-0.129453</td>\n",
              "      <td>-0.298440</td>\n",
              "      <td>-0.206509</td>\n",
              "      <td>-0.097290</td>\n",
              "      <td>0.008438</td>\n",
              "      <td>0.030484</td>\n",
              "      <td>-0.094509</td>\n",
              "      <td>-0.089587</td>\n",
              "      <td>-0.039973</td>\n",
              "    </tr>\n",
              "    <tr>\n",
              "      <th>Shopping centres</th>\n",
              "      <td>-0.058205</td>\n",
              "      <td>1.000000</td>\n",
              "      <td>0.361467</td>\n",
              "      <td>0.132065</td>\n",
              "      <td>0.488448</td>\n",
              "      <td>0.155511</td>\n",
              "      <td>0.104950</td>\n",
              "      <td>-0.133868</td>\n",
              "      <td>-0.132933</td>\n",
              "      <td>-0.151738</td>\n",
              "      <td>-0.064048</td>\n",
              "    </tr>\n",
              "    <tr>\n",
              "      <th>Branded clothing</th>\n",
              "      <td>-0.129453</td>\n",
              "      <td>0.361467</td>\n",
              "      <td>1.000000</td>\n",
              "      <td>0.338824</td>\n",
              "      <td>0.416878</td>\n",
              "      <td>0.352667</td>\n",
              "      <td>0.173423</td>\n",
              "      <td>-0.066279</td>\n",
              "      <td>0.147891</td>\n",
              "      <td>0.104435</td>\n",
              "      <td>-0.039901</td>\n",
              "    </tr>\n",
              "    <tr>\n",
              "      <th>Entertainment spending</th>\n",
              "      <td>-0.298440</td>\n",
              "      <td>0.132065</td>\n",
              "      <td>0.338824</td>\n",
              "      <td>1.000000</td>\n",
              "      <td>0.403655</td>\n",
              "      <td>0.336616</td>\n",
              "      <td>0.144024</td>\n",
              "      <td>-0.030833</td>\n",
              "      <td>0.166344</td>\n",
              "      <td>0.142019</td>\n",
              "      <td>0.031915</td>\n",
              "    </tr>\n",
              "    <tr>\n",
              "      <th>Spending on looks</th>\n",
              "      <td>-0.206509</td>\n",
              "      <td>0.488448</td>\n",
              "      <td>0.416878</td>\n",
              "      <td>0.403655</td>\n",
              "      <td>1.000000</td>\n",
              "      <td>0.334428</td>\n",
              "      <td>0.235610</td>\n",
              "      <td>-0.072659</td>\n",
              "      <td>-0.093688</td>\n",
              "      <td>-0.087897</td>\n",
              "      <td>-0.041896</td>\n",
              "    </tr>\n",
              "    <tr>\n",
              "      <th>Spending on gadgets</th>\n",
              "      <td>-0.097290</td>\n",
              "      <td>0.155511</td>\n",
              "      <td>0.352667</td>\n",
              "      <td>0.336616</td>\n",
              "      <td>0.334428</td>\n",
              "      <td>1.000000</td>\n",
              "      <td>0.235251</td>\n",
              "      <td>-0.010787</td>\n",
              "      <td>0.227769</td>\n",
              "      <td>0.244183</td>\n",
              "      <td>-0.025413</td>\n",
              "    </tr>\n",
              "    <tr>\n",
              "      <th>Spending on healthy eating</th>\n",
              "      <td>0.008438</td>\n",
              "      <td>0.104950</td>\n",
              "      <td>0.173423</td>\n",
              "      <td>0.144024</td>\n",
              "      <td>0.235610</td>\n",
              "      <td>0.235251</td>\n",
              "      <td>1.000000</td>\n",
              "      <td>0.013850</td>\n",
              "      <td>0.010254</td>\n",
              "      <td>0.027052</td>\n",
              "      <td>-0.082345</td>\n",
              "    </tr>\n",
              "    <tr>\n",
              "      <th>Age</th>\n",
              "      <td>0.030484</td>\n",
              "      <td>-0.133868</td>\n",
              "      <td>-0.066279</td>\n",
              "      <td>-0.030833</td>\n",
              "      <td>-0.072659</td>\n",
              "      <td>-0.010787</td>\n",
              "      <td>0.013850</td>\n",
              "      <td>1.000000</td>\n",
              "      <td>0.114841</td>\n",
              "      <td>0.237722</td>\n",
              "      <td>0.090374</td>\n",
              "    </tr>\n",
              "    <tr>\n",
              "      <th>Height</th>\n",
              "      <td>-0.094509</td>\n",
              "      <td>-0.132933</td>\n",
              "      <td>0.147891</td>\n",
              "      <td>0.166344</td>\n",
              "      <td>-0.093688</td>\n",
              "      <td>0.227769</td>\n",
              "      <td>0.010254</td>\n",
              "      <td>0.114841</td>\n",
              "      <td>1.000000</td>\n",
              "      <td>0.697696</td>\n",
              "      <td>-0.013849</td>\n",
              "    </tr>\n",
              "    <tr>\n",
              "      <th>Weight</th>\n",
              "      <td>-0.089587</td>\n",
              "      <td>-0.151738</td>\n",
              "      <td>0.104435</td>\n",
              "      <td>0.142019</td>\n",
              "      <td>-0.087897</td>\n",
              "      <td>0.244183</td>\n",
              "      <td>0.027052</td>\n",
              "      <td>0.237722</td>\n",
              "      <td>0.697696</td>\n",
              "      <td>1.000000</td>\n",
              "      <td>-0.026896</td>\n",
              "    </tr>\n",
              "    <tr>\n",
              "      <th>Number of siblings</th>\n",
              "      <td>-0.039973</td>\n",
              "      <td>-0.064048</td>\n",
              "      <td>-0.039901</td>\n",
              "      <td>0.031915</td>\n",
              "      <td>-0.041896</td>\n",
              "      <td>-0.025413</td>\n",
              "      <td>-0.082345</td>\n",
              "      <td>0.090374</td>\n",
              "      <td>-0.013849</td>\n",
              "      <td>-0.026896</td>\n",
              "      <td>1.000000</td>\n",
              "    </tr>\n",
              "  </tbody>\n",
              "</table>\n",
              "</div>\n",
              "      <button class=\"colab-df-convert\" onclick=\"convertToInteractive('df-ef09b6cf-d94c-445d-8278-0e15e1b2666e')\"\n",
              "              title=\"Convert this dataframe to an interactive table.\"\n",
              "              style=\"display:none;\">\n",
              "        \n",
              "  <svg xmlns=\"http://www.w3.org/2000/svg\" height=\"24px\"viewBox=\"0 0 24 24\"\n",
              "       width=\"24px\">\n",
              "    <path d=\"M0 0h24v24H0V0z\" fill=\"none\"/>\n",
              "    <path d=\"M18.56 5.44l.94 2.06.94-2.06 2.06-.94-2.06-.94-.94-2.06-.94 2.06-2.06.94zm-11 1L8.5 8.5l.94-2.06 2.06-.94-2.06-.94L8.5 2.5l-.94 2.06-2.06.94zm10 10l.94 2.06.94-2.06 2.06-.94-2.06-.94-.94-2.06-.94 2.06-2.06.94z\"/><path d=\"M17.41 7.96l-1.37-1.37c-.4-.4-.92-.59-1.43-.59-.52 0-1.04.2-1.43.59L10.3 9.45l-7.72 7.72c-.78.78-.78 2.05 0 2.83L4 21.41c.39.39.9.59 1.41.59.51 0 1.02-.2 1.41-.59l7.78-7.78 2.81-2.81c.8-.78.8-2.07 0-2.86zM5.41 20L4 18.59l7.72-7.72 1.47 1.35L5.41 20z\"/>\n",
              "  </svg>\n",
              "      </button>\n",
              "      \n",
              "  <style>\n",
              "    .colab-df-container {\n",
              "      display:flex;\n",
              "      flex-wrap:wrap;\n",
              "      gap: 12px;\n",
              "    }\n",
              "\n",
              "    .colab-df-convert {\n",
              "      background-color: #E8F0FE;\n",
              "      border: none;\n",
              "      border-radius: 50%;\n",
              "      cursor: pointer;\n",
              "      display: none;\n",
              "      fill: #1967D2;\n",
              "      height: 32px;\n",
              "      padding: 0 0 0 0;\n",
              "      width: 32px;\n",
              "    }\n",
              "\n",
              "    .colab-df-convert:hover {\n",
              "      background-color: #E2EBFA;\n",
              "      box-shadow: 0px 1px 2px rgba(60, 64, 67, 0.3), 0px 1px 3px 1px rgba(60, 64, 67, 0.15);\n",
              "      fill: #174EA6;\n",
              "    }\n",
              "\n",
              "    [theme=dark] .colab-df-convert {\n",
              "      background-color: #3B4455;\n",
              "      fill: #D2E3FC;\n",
              "    }\n",
              "\n",
              "    [theme=dark] .colab-df-convert:hover {\n",
              "      background-color: #434B5C;\n",
              "      box-shadow: 0px 1px 3px 1px rgba(0, 0, 0, 0.15);\n",
              "      filter: drop-shadow(0px 1px 2px rgba(0, 0, 0, 0.3));\n",
              "      fill: #FFFFFF;\n",
              "    }\n",
              "  </style>\n",
              "\n",
              "      <script>\n",
              "        const buttonEl =\n",
              "          document.querySelector('#df-ef09b6cf-d94c-445d-8278-0e15e1b2666e button.colab-df-convert');\n",
              "        buttonEl.style.display =\n",
              "          google.colab.kernel.accessAllowed ? 'block' : 'none';\n",
              "\n",
              "        async function convertToInteractive(key) {\n",
              "          const element = document.querySelector('#df-ef09b6cf-d94c-445d-8278-0e15e1b2666e');\n",
              "          const dataTable =\n",
              "            await google.colab.kernel.invokeFunction('convertToInteractive',\n",
              "                                                     [key], {});\n",
              "          if (!dataTable) return;\n",
              "\n",
              "          const docLinkHtml = 'Like what you see? Visit the ' +\n",
              "            '<a target=\"_blank\" href=https://colab.research.google.com/notebooks/data_table.ipynb>data table notebook</a>'\n",
              "            + ' to learn more about interactive tables.';\n",
              "          element.innerHTML = '';\n",
              "          dataTable['output_type'] = 'display_data';\n",
              "          await google.colab.output.renderOutput(dataTable, element);\n",
              "          const docLink = document.createElement('div');\n",
              "          docLink.innerHTML = docLinkHtml;\n",
              "          element.appendChild(docLink);\n",
              "        }\n",
              "      </script>\n",
              "    </div>\n",
              "  </div>\n",
              "  "
            ]
          },
          "metadata": {},
          "execution_count": 37
        }
      ]
    },
    {
      "cell_type": "code",
      "source": [
        "# shows the correlations between the values\n",
        "plt.figure(figsize=(20, 9))\n",
        "\n",
        "mask = np.triu(np.ones_like(df.corr(), dtype=np.bool))\n",
        "heatmap = sns.heatmap(df.corr(), mask=mask, vmin=-1, vmax=1, annot=True, cmap=\"autumn\")\n",
        "heatmap.set_title('Triangle Correlation Heatmap', fontdict={'fontsize':18}, pad=16);"
      ],
      "metadata": {
        "colab": {
          "base_uri": "https://localhost:8080/",
          "height": 695
        },
        "id": "W7G3AwzLnk_c",
        "outputId": "fd25b43e-bae2-4d66-c9dd-2c3a15b086f9"
      },
      "execution_count": null,
      "outputs": [
        {
          "output_type": "display_data",
          "data": {
            "text/plain": [
              "<Figure size 1440x648 with 2 Axes>"
            ],
            "image/png": "[encoded data removed]"
          },
          "metadata": {
            "needs_background": "light"
          }
        }
      ]
    },
    {
      "cell_type": "markdown",
      "source": [
        "As we can see, the heatmap shows that the correlation coefficients range from 1 to -1, the reddest parts show a negative relationship while the yellowest are those that show a high positive correlation."
      ],
      "metadata": {
        "id": "J09fKYQSUrfW"
      }
    },
    {
      "cell_type": "markdown",
      "source": [
        "For this section, we decide to choose the variables \"Height\" and \"Weight\""
      ],
      "metadata": {
        "id": "htSyl9uzLxr1"
      }
    },
    {
      "cell_type": "code",
      "source": [
        "df['Height'].corr(df['Weight'],method = \"pearson\")"
      ],
      "metadata": {
        "colab": {
          "base_uri": "https://localhost:8080/"
        },
        "id": "4zmTLjZfUhJq",
        "outputId": "a7c92489-d629-4261-e4de-c83cb1226133"
      },
      "execution_count": null,
      "outputs": [
        {
          "output_type": "execute_result",
          "data": {
            "text/plain": [
              "0.6976960130510528"
            ]
          },
          "metadata": {},
          "execution_count": 11
        }
      ]
    },
    {
      "cell_type": "code",
      "source": [
        "sns.scatterplot(data=df, x=\"Height\", y=\"Weight\", color=\"orange\")"
      ],
      "metadata": {
        "colab": {
          "base_uri": "https://localhost:8080/",
          "height": 296
        },
        "id": "VtaiTMhT_4ta",
        "outputId": "d24e5da6-c25e-46ad-afb2-59c37e3482c8"
      },
      "execution_count": null,
      "outputs": [
        {
          "output_type": "execute_result",
          "data": {
            "text/plain": [
              "<matplotlib.axes._subplots.AxesSubplot at 0x7f136cc2c340>"
            ]
          },
          "metadata": {},
          "execution_count": 8
        },
        {
          "output_type": "display_data",
          "data": {
            "text/plain": [
              "<Figure size 432x288 with 1 Axes>"
            ],
            "image/png": "[encoded data removed]"
          },
          "metadata": {
            "needs_background": "light"
          }
        }
      ]
    },
    {
      "cell_type": "code",
      "source": [
        "sns.scatterplot(data=df, x=\"Weight\", y=\"Height\", color=\"orange\")"
      ],
      "metadata": {
        "colab": {
          "base_uri": "https://localhost:8080/",
          "height": 296
        },
        "id": "LlU4P3vt2lVw",
        "outputId": "01589417-0949-4210-8eac-4655a42611d4"
      },
      "execution_count": 43,
      "outputs": [
        {
          "output_type": "execute_result",
          "data": {
            "text/plain": [
              "<matplotlib.axes._subplots.AxesSubplot at 0x7f136a8560d0>"
            ]
          },
          "metadata": {},
          "execution_count": 43
        },
        {
          "output_type": "display_data",
          "data": {
            "text/plain": [
              "<Figure size 432x288 with 1 Axes>"
            ],
            "image/png": "[encoded data removed]"
          },
          "metadata": {
            "needs_background": "light"
          }
        }
      ]
    },
    {
      "cell_type": "markdown",
      "source": [
        " We can see that the variables \"Height\" and \"Weight\"  have 0.7 of coefficient; which indicates that we have a **strong positive correlation** according to the scale of the strength of the correlation.\n",
        "\n",
        "Although causation and correlation can exist simultaneously, correlation does not imply causation. Causation means that one thing causes another, In this example we can say that the two variables have causation because the taller you are, the more you tend to weigh."
      ],
      "metadata": {
        "id": "oa0PRsqbnfGH"
      }
    },
    {
      "cell_type": "markdown",
      "source": [
        "## Linear Regression Model\n",
        "\n",
        "Linear regression is a type of predictive analysis that aims to predict a variable based on another variable, the dependent or \"target\" variable to be expected. The independent variable is used to predict the dependent variable.\n",
        "\n",
        "In this case, we are using the variable \"Age\" which is our independent column and we will use this to predict our target variable \"Finances\".\n",
        "\n",
        "\n",
        "The regression lines has an equition of the form   **Y = a + bX**\n",
        "\n",
        "X= it is the explaratory variable           \n",
        "Y= dependent variable        \n",
        "a= It is the  intercept            \n",
        "b= Slope coefficients\n",
        "\n",
        "\n",
        "  "
      ],
      "metadata": {
        "id": "WX-DZo6lpHu0"
      }
    },
    {
      "cell_type": "code",
      "source": [
        "from sklearn.linear_model import LinearRegression"
      ],
      "metadata": {
        "id": "p-3kewcA7MRc"
      },
      "execution_count": null,
      "outputs": []
    },
    {
      "cell_type": "code",
      "source": [
        "# create linear regression object\n",
        "corre = LinearRegression()\n"
      ],
      "metadata": {
        "id": "beY5qJUk8yEO"
      },
      "execution_count": null,
      "outputs": []
    },
    {
      "cell_type": "code",
      "source": [
        "df_1 = df[\"Age\"]"
      ],
      "metadata": {
        "id": "PGRTkFcYYR-q"
      },
      "execution_count": null,
      "outputs": []
    },
    {
      "cell_type": "code",
      "source": [
        "df.fillna(df_1.median(), inplace=True)"
      ],
      "metadata": {
        "id": "j-U1BarTIsQR"
      },
      "execution_count": null,
      "outputs": []
    },
    {
      "cell_type": "code",
      "source": [
        "\n",
        "# fit linear regression\n",
        "corre.fit(df[['Age']], df['Finances'])\n",
        "\n",
        "print(corre.intercept_)\n",
        "\n",
        "print(corre.coef_)"
      ],
      "metadata": {
        "colab": {
          "base_uri": "https://localhost:8080/"
        },
        "id": "tq5jkNRXHwo_",
        "outputId": "66213267-a818-4699-f1e1-bc2413f00a3a"
      },
      "execution_count": null,
      "outputs": [
        {
          "output_type": "stream",
          "name": "stdout",
          "text": [
            "2.8814106936614223\n",
            "[0.00943907]\n"
          ]
        }
      ]
    },
    {
      "cell_type": "markdown",
      "source": [
        "* Age: A\n",
        "* Finances: F\n",
        "\n",
        "Lineal Regression Model: **A = 2.881*F - 0.0.012**\n",
        "\n",
        "For each individual in the future this could tend to save because the probability of saving will be almost 2.881 according to the data collected in the surveys."
      ],
      "metadata": {
        "id": "yaiCs3rPJSUY"
      }
    },
    {
      "cell_type": "markdown",
      "source": [
        "# Conclusion\n",
        "\n",
        "Making a summary of our project in which we involved many factors that can reflect the economic health of many young people today, values that are analyzed in the different sections of our project.\n",
        "\n",
        "A relevant variable \"Age\" was analyzed, which reflected the poor responsibility that young people have in this modern age. The emotional maturity of 'young people should start from a very early age according to the data provided in our database.\n",
        "\n",
        "In our second part, we were able to corroborate our theory which it says that young people at an early age do not have a habit of saving, and according to investigations by financial entities they do not have a retirement plan for the future.\n",
        "\n",
        "And finally, an algorithm was set up that could predict what would be the response of young people between 15 to 30 years old according to the algorithmic model implemented. The result obtained predicted a spark of hope in the youth, in which young people could consider saving as a source of development for the people, this could be the first step for stable economic stability in the people."
      ],
      "metadata": {
        "id": "rC5PzlpJVHPC"
      }
    },
    {
      "cell_type": "markdown",
      "source": [
        "# References\n",
        "\n",
        "* Agrawal, Y. (2019). Hypothesis testing in Machine learning using Python. [online] Medium. Available at: https://medium.com/towards-data-science/hypothesis-testing-in-machine-learning-using-python-a0dc89e169ce [Accessed 10 Dec. 2022].\n",
        "\n",
        "* Auffarth, B. (2021). MACHINE LEARNING FOR TIME-SERIES WITH PYTHON : forecast, predict, and detect anomalies with... state-of-the-art machine learning methods. S.L.: Packt Publishing Limited.\n",
        "\n",
        "* Bhandari, P. (2020). Central Tendency | Understanding the Mean, Median and Mode. [online] Scribbr. Available at: https://www.scribbr.com/statistics/central-tendency/.\n",
        "\n",
        "* Brownlee, J. (2018). A Gentle Introduction to the Chi-Squared Test for Machine Learning. [online] Machine Learning Mastery. Available at: https://machinelearningmastery.com/chi-squared-test-for-machine-learning/.\n",
        "\n",
        "* Bruce, P.C., Bruce, A. and Gedeck, P. (2020). Practical statistics for data scientists : 50+ essential concepts using R and Python. Sebastopol, Ca: O’reilly Media, Inc.\n",
        "\n",
        "* Duca, A.L. (2021). Hypothesis Tests Explained. [online] Medium. Available at: https://towardsdatascience.com/hypothesis-tests-explained-8a070636bd28#:~:text=Types%20of%20Hypothesis%20Tests.\n",
        "\n",
        "* Elkins, K. (2018). A growing percentage of millennials have absolutely nothing saved. [online] CNBC. Available at: https://www.cnbc.com/2018/02/09/a-growing-percentage-of-millennials-have-absolutely-nothing-saved.html.\n",
        "\n",
        "* Kenton, W. (2019). Kurtosis. [online] Investopedia. Available at: https://www.investopedia.com/terms/k/kurtosis.asp.\n",
        "\n",
        "* Kuhn, M. and Johnson, K. (2019). Feature Engineering and Selection. CRC Press.\n",
        "\n",
        "* Levine, D.M. and Stephan, D. (2015). Even you can learn statistics and analytics : an easy to understand guide to statistics and analytics. Upper Saddle River, New Jersey: Pearson Education Press.\n",
        "\n",
        "* lunodiscover (2019). Emerging markets are money savvy and ready for change - ‘The Future of Money’ Research. [online] Luno. Available at: https://discover.luno.com/emerging-markets-are-money-savvy-and-ready-for-change-says-luno-the-future-of-money-research/ [Accessed 11 Dec. 2022].\n",
        "\n",
        "* Mehta, S. (2022). A beginner’s guide to Chi-square test in python from scratch. [online] Analytics India Magazine. Available at: https://analyticsindiamag.com/a-beginners-guide-to-chi-square-test-in-python-from-scratch/.\n",
        "\n",
        "* Nield, T. (2022). Essential Math for Data Science. O’Reilly Media.\n",
        "\n",
        "* pandas.pydata.org. (n.d.). pandas.DataFrame.describe — pandas 1.3.4 documentation. [online] Available at: https://pandas.pydata.org/docs/reference/api/pandas.DataFrame.describe.html.\n",
        "\n",
        "* Sudheer, S. (2020). Descriptive Statistics in data science -with illustrations in ‘python’. [online] Analytics Vidhya. Available at: https://medium.com/analytics-vidhya/descriptive-statistics-in-data-science-with-illustrations-in-python-efd5ccc152f1 [Accessed 11 Dec. 2022]."
      ],
      "metadata": {
        "id": "PFK1ZjtewlMY"
      }
    }
  ]
}